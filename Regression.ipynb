{
 "cells": [
  {
   "cell_type": "markdown",
   "metadata": {},
   "source": [
    "# Business Analytics\n",
    "## Regression\n",
    "(C) 2021"
   ]
  },
  {
   "cell_type": "code",
   "execution_count": 1,
   "metadata": {},
   "outputs": [
    {
     "data": {
      "text/html": [
       "<img src onerror=\"var cell = this.closest('.code_cell');var editor = cell.querySelector('.input_area');editor.style.background='#bde4f0';this.parentNode.removeChild(this)\">"
      ],
      "text/plain": [
       "<IPython.core.display.HTML object>"
      ]
     },
     "metadata": {},
     "output_type": "display_data"
    },
    {
     "data": {
      "text/html": [
       "<style>.container { width:900px !important; }</style>"
      ],
      "text/plain": [
       "<IPython.core.display.HTML object>"
      ]
     },
     "metadata": {},
     "output_type": "display_data"
    }
   ],
   "source": [
    "from IPython.display import HTML, display\n",
    "\n",
    "def optional_material():\n",
    "    '''\n",
    "    When run in a cell, this function will color the cell blue to indicate\n",
    "    the material is optional\n",
    "    '''\n",
    "    script =  \"var cell = this.closest('.code_cell');\"\n",
    "    script += \"var editor = cell.querySelector('.input_area');\"\n",
    "    script += \"editor.style.background='#bde4f0';\"\n",
    "    script += \"this.parentNode.removeChild(this)\"\n",
    "    \n",
    "    display(HTML(f'<img src onerror=\"{script}\">'))\n",
    "    \n",
    "optional_material()\n",
    "\n",
    "from IPython.core.display import display, HTML\n",
    "display(HTML(\"<style>.container { width:900px !important; }</style>\"))"
   ]
  },
  {
   "cell_type": "markdown",
   "metadata": {},
   "source": [
    "# StreetEasy data"
   ]
  },
  {
   "cell_type": "code",
   "execution_count": 2,
   "metadata": {},
   "outputs": [
    {
     "data": {
      "text/html": [
       "<div>\n",
       "<style scoped>\n",
       "    .dataframe tbody tr th:only-of-type {\n",
       "        vertical-align: middle;\n",
       "    }\n",
       "\n",
       "    .dataframe tbody tr th {\n",
       "        vertical-align: top;\n",
       "    }\n",
       "\n",
       "    .dataframe thead th {\n",
       "        text-align: right;\n",
       "    }\n",
       "</style>\n",
       "<table border=\"1\" class=\"dataframe\">\n",
       "  <thead>\n",
       "    <tr style=\"text-align: right;\">\n",
       "      <th></th>\n",
       "      <th>price_per_sqft</th>\n",
       "      <th>zip_code</th>\n",
       "      <th>sqft</th>\n",
       "      <th>bedrooms</th>\n",
       "      <th>bathrooms</th>\n",
       "      <th>rooms</th>\n",
       "      <th>property_type</th>\n",
       "      <th>floor</th>\n",
       "      <th>door_attendant</th>\n",
       "      <th>gym</th>\n",
       "    </tr>\n",
       "  </thead>\n",
       "  <tbody>\n",
       "    <tr>\n",
       "      <th>0</th>\n",
       "      <td>1476.894640</td>\n",
       "      <td>10025</td>\n",
       "      <td>541</td>\n",
       "      <td>0.0</td>\n",
       "      <td>1.0</td>\n",
       "      <td>0.5</td>\n",
       "      <td>condo</td>\n",
       "      <td>17</td>\n",
       "      <td>1</td>\n",
       "      <td>1</td>\n",
       "    </tr>\n",
       "    <tr>\n",
       "      <th>1</th>\n",
       "      <td>1910.413476</td>\n",
       "      <td>10023</td>\n",
       "      <td>1306</td>\n",
       "      <td>3.0</td>\n",
       "      <td>2.5</td>\n",
       "      <td>5.5</td>\n",
       "      <td>condo</td>\n",
       "      <td>14</td>\n",
       "      <td>1</td>\n",
       "      <td>1</td>\n",
       "    </tr>\n",
       "    <tr>\n",
       "      <th>2</th>\n",
       "      <td>1588.235294</td>\n",
       "      <td>10024</td>\n",
       "      <td>255</td>\n",
       "      <td>0.0</td>\n",
       "      <td>1.0</td>\n",
       "      <td>2.0</td>\n",
       "      <td>condo</td>\n",
       "      <td>5</td>\n",
       "      <td>0</td>\n",
       "      <td>0</td>\n",
       "    </tr>\n",
       "    <tr>\n",
       "      <th>3</th>\n",
       "      <td>1053.097345</td>\n",
       "      <td>10023</td>\n",
       "      <td>565</td>\n",
       "      <td>0.0</td>\n",
       "      <td>1.0</td>\n",
       "      <td>2.5</td>\n",
       "      <td>coop</td>\n",
       "      <td>21</td>\n",
       "      <td>1</td>\n",
       "      <td>0</td>\n",
       "    </tr>\n",
       "    <tr>\n",
       "      <th>4</th>\n",
       "      <td>357.142857</td>\n",
       "      <td>10025</td>\n",
       "      <td>1400</td>\n",
       "      <td>2.0</td>\n",
       "      <td>1.0</td>\n",
       "      <td>2.0</td>\n",
       "      <td>coop</td>\n",
       "      <td>5</td>\n",
       "      <td>0</td>\n",
       "      <td>0</td>\n",
       "    </tr>\n",
       "  </tbody>\n",
       "</table>\n",
       "</div>"
      ],
      "text/plain": [
       "   price_per_sqft  zip_code  sqft  bedrooms  bathrooms  rooms property_type  \\\n",
       "0     1476.894640     10025   541       0.0        1.0    0.5         condo   \n",
       "1     1910.413476     10023  1306       3.0        2.5    5.5         condo   \n",
       "2     1588.235294     10024   255       0.0        1.0    2.0         condo   \n",
       "3     1053.097345     10023   565       0.0        1.0    2.5          coop   \n",
       "4      357.142857     10025  1400       2.0        1.0    2.0          coop   \n",
       "\n",
       "   floor  door_attendant  gym  \n",
       "0     17               1    1  \n",
       "1     14               1    1  \n",
       "2      5               0    0  \n",
       "3     21               1    0  \n",
       "4      5               0    0  "
      ]
     },
     "execution_count": 2,
     "metadata": {},
     "output_type": "execute_result"
    }
   ],
   "source": [
    "import pandas as pd\n",
    "df_se = pd.read_excel('StreetEasy data.xlsx')\n",
    "df_se.head()"
   ]
  },
  {
   "cell_type": "code",
   "execution_count": 3,
   "metadata": {},
   "outputs": [
    {
     "data": {
      "image/png": "[encoded data removed]",
      "text/plain": [
       "<Figure size 1008x576 with 1 Axes>"
      ]
     },
     "metadata": {
      "needs_background": "light"
     },
     "output_type": "display_data"
    }
   ],
   "source": [
    "import matplotlib.pyplot as plt\n",
    "import seaborn as sns\n",
    "\n",
    "plt.figure(figsize=(14,8))\n",
    "\n",
    "df_se.price_per_sqft.hist(bins=20)\n",
    "\n",
    "plt.xticks(fontsize=20)\n",
    "plt.yticks([])\n",
    "\n",
    "plt.xlabel('Price per Square Foot', fontsize=20)\n",
    "\n",
    "plt.text(2030, 160, f'$\\\\mu = {round(df_se.price_per_sqft.mean(),2)}$', fontsize=20)\n",
    "plt.text(2030, 150, f'$\\\\sigma = {round(df_se.price_per_sqft.std(),2)}$', fontsize=20)\n",
    "\n",
    "sns.despine()"
   ]
  },
  {
   "cell_type": "markdown",
   "metadata": {},
   "source": [
    "# Univariate regression"
   ]
  },
  {
   "cell_type": "code",
   "execution_count": 4,
   "metadata": {},
   "outputs": [
    {
     "data": {
      "text/plain": [
       "0.3446584152519978"
      ]
     },
     "execution_count": 4,
     "metadata": {},
     "output_type": "execute_result"
    }
   ],
   "source": [
    "df_se.price_per_sqft.corr(df_se.floor)"
   ]
  },
  {
   "cell_type": "code",
   "execution_count": 5,
   "metadata": {},
   "outputs": [],
   "source": [
    "def create_plot(var):\n",
    "    '''\n",
    "    This function takes the name of a variable in df_se, and\n",
    "    produces a plot of the variable against the price per\n",
    "    square foot\n",
    "    '''\n",
    "    \n",
    "    plt.figure(figsize=(14, 8))\n",
    "\n",
    "    plt.plot(df_se[var], df_se.price_per_sqft, linewidth=0, marker='x')\n",
    "\n",
    "    plt.xticks(fontsize=20)\n",
    "    plt.yticks(fontsize=20)\n",
    "\n",
    "    plt.xlabel(var, fontsize=20)\n",
    "    plt.ylabel('Price per Square Foot', fontsize=20)\n",
    "\n",
    "    sns.despine()"
   ]
  },
  {
   "cell_type": "code",
   "execution_count": 6,
   "metadata": {},
   "outputs": [
    {
     "data": {
      "image/png": "[encoded data removed]",
      "text/plain": [
       "<Figure size 1008x576 with 1 Axes>"
      ]
     },
     "metadata": {
      "needs_background": "light"
     },
     "output_type": "display_data"
    }
   ],
   "source": [
    "create_plot('floor')"
   ]
  },
  {
   "cell_type": "code",
   "execution_count": 7,
   "metadata": {},
   "outputs": [],
   "source": [
    "def find_beta(var):\n",
    "    return df_se.price_per_sqft.corr(df_se[var])*df_se.price_per_sqft.std()/df_se[var].std()\n",
    "\n",
    "def find_alpha(var):\n",
    "    return df_se.price_per_sqft.mean() - find_beta(var)*df_se[var].mean()\n",
    "\n",
    "beta = find_beta('floor')\n",
    "alpha = find_alpha('floor')"
   ]
  },
  {
   "cell_type": "code",
   "execution_count": 8,
   "metadata": {},
   "outputs": [
    {
     "data": {
      "text/plain": [
       "Text(30, 500, '$y = 1239.79 + 19.07x$')"
      ]
     },
     "execution_count": 8,
     "metadata": {},
     "output_type": "execute_result"
    },
    {
     "data": {
      "image/png": "[encoded data removed]",
      "text/plain": [
       "<Figure size 1008x576 with 1 Axes>"
      ]
     },
     "metadata": {
      "needs_background": "light"
     },
     "output_type": "display_data"
    }
   ],
   "source": [
    "create_plot('floor')\n",
    "\n",
    "y_line = alpha + beta*df_se.floor\n",
    "plt.plot(df_se.floor, y_line, linewidth=3, color='red')\n",
    "\n",
    "plt.text(30, 500, f'$y = {round(alpha,2)} + {round(beta,2)}x$', fontsize=20)"
   ]
  },
  {
   "cell_type": "code",
   "execution_count": 9,
   "metadata": {},
   "outputs": [
    {
     "data": {
      "image/png": "[encoded data removed]",
      "text/plain": [
       "<Figure size 1008x576 with 1 Axes>"
      ]
     },
     "metadata": {
      "needs_background": "light"
     },
     "output_type": "display_data"
    }
   ],
   "source": [
    "create_plot('gym')"
   ]
  },
  {
   "cell_type": "code",
   "execution_count": 10,
   "metadata": {},
   "outputs": [
    {
     "name": "stdout",
     "output_type": "stream",
     "text": [
      "1263.8474455067726\n"
     ]
    },
    {
     "data": {
      "text/plain": [
       "1263.8474455067758"
      ]
     },
     "execution_count": 10,
     "metadata": {},
     "output_type": "execute_result"
    }
   ],
   "source": [
    "print(find_alpha('gym'))\n",
    "df_se[df_se.gym==0].price_per_sqft.mean()"
   ]
  },
  {
   "cell_type": "code",
   "execution_count": 11,
   "metadata": {},
   "outputs": [
    {
     "name": "stdout",
     "output_type": "stream",
     "text": [
      "298.1799869483872\n"
     ]
    },
    {
     "data": {
      "text/plain": [
       "298.1799869483825"
      ]
     },
     "execution_count": 11,
     "metadata": {},
     "output_type": "execute_result"
    }
   ],
   "source": [
    "print(find_beta('gym'))\n",
    "df_se[df_se.gym==1].price_per_sqft.mean() - df_se[df_se.gym==0].price_per_sqft.mean()"
   ]
  },
  {
   "cell_type": "markdown",
   "metadata": {},
   "source": [
    "# Multivariate regression"
   ]
  },
  {
   "cell_type": "code",
   "execution_count": 12,
   "metadata": {},
   "outputs": [
    {
     "data": {
      "text/html": [
       "<img src onerror=\"var cell = this.closest('.code_cell');var editor = cell.querySelector('.input_area');editor.style.background='#bde4f0';this.parentNode.removeChild(this)\">"
      ],
      "text/plain": [
       "<IPython.core.display.HTML object>"
      ]
     },
     "metadata": {},
     "output_type": "display_data"
    },
    {
     "data": {
      "text/plain": [
       "array([1057.43954964,  -60.08912386,  379.29576659])"
      ]
     },
     "execution_count": 12,
     "metadata": {},
     "output_type": "execute_result"
    }
   ],
   "source": [
    "optional_material()\n",
    "\n",
    "import numpy as np\n",
    "\n",
    "# Create the X and y matrices\n",
    "X = df_se[['rooms', 'bathrooms']].to_numpy()\n",
    "y = df_se.price_per_sqft.to_numpy()\n",
    "\n",
    "# Add a column of 1s to the X matrix for the intercept\n",
    "X = np.append(np.ones((len(df_se), 1)), X, axis=1)\n",
    "\n",
    "# Calculate beta_hat\n",
    "beta_hat = np.linalg.inv(X.transpose() @ X) @ X.transpose() @ y\n",
    "\n",
    "beta_hat"
   ]
  },
  {
   "cell_type": "code",
   "execution_count": 13,
   "metadata": {},
   "outputs": [],
   "source": [
    "import statsmodels.formula.api as smf"
   ]
  },
  {
   "cell_type": "code",
   "execution_count": 14,
   "metadata": {},
   "outputs": [],
   "source": [
    "# Create the regression object\n",
    "reg = smf.ols('price_per_sqft ~ rooms + bathrooms', data=df_se)\n",
    "\n",
    "# Fit the regression\n",
    "reg_result = reg.fit()"
   ]
  },
  {
   "cell_type": "code",
   "execution_count": 15,
   "metadata": {},
   "outputs": [
    {
     "data": {
      "text/html": [
       "<table class=\"simpletable\">\n",
       "<caption>OLS Regression Results</caption>\n",
       "<tr>\n",
       "  <th>Dep. Variable:</th>     <td>price_per_sqft</td>  <th>  R-squared:         </th> <td>   0.322</td> \n",
       "</tr>\n",
       "<tr>\n",
       "  <th>Model:</th>                   <td>OLS</td>       <th>  Adj. R-squared:    </th> <td>   0.321</td> \n",
       "</tr>\n",
       "<tr>\n",
       "  <th>Method:</th>             <td>Least Squares</td>  <th>  F-statistic:       </th> <td>   346.8</td> \n",
       "</tr>\n",
       "<tr>\n",
       "  <th>Date:</th>             <td>Thu, 30 Jun 2022</td> <th>  Prob (F-statistic):</th> <td>5.47e-124</td>\n",
       "</tr>\n",
       "<tr>\n",
       "  <th>Time:</th>                 <td>09:48:00</td>     <th>  Log-Likelihood:    </th> <td> -10660.</td> \n",
       "</tr>\n",
       "<tr>\n",
       "  <th>No. Observations:</th>      <td>  1464</td>      <th>  AIC:               </th> <td>2.133e+04</td>\n",
       "</tr>\n",
       "<tr>\n",
       "  <th>Df Residuals:</th>          <td>  1461</td>      <th>  BIC:               </th> <td>2.134e+04</td>\n",
       "</tr>\n",
       "<tr>\n",
       "  <th>Df Model:</th>              <td>     2</td>      <th>                     </th>     <td> </td>    \n",
       "</tr>\n",
       "<tr>\n",
       "  <th>Covariance Type:</th>      <td>nonrobust</td>    <th>                     </th>     <td> </td>    \n",
       "</tr>\n",
       "</table>\n",
       "<table class=\"simpletable\">\n",
       "<tr>\n",
       "      <td></td>         <th>coef</th>     <th>std err</th>      <th>t</th>      <th>P>|t|</th>  <th>[0.025</th>    <th>0.975]</th>  \n",
       "</tr>\n",
       "<tr>\n",
       "  <th>Intercept</th> <td> 1057.4395</td> <td>   27.871</td> <td>   37.941</td> <td> 0.000</td> <td> 1002.769</td> <td> 1112.110</td>\n",
       "</tr>\n",
       "<tr>\n",
       "  <th>rooms</th>     <td>  -60.0891</td> <td>   10.717</td> <td>   -5.607</td> <td> 0.000</td> <td>  -81.112</td> <td>  -39.066</td>\n",
       "</tr>\n",
       "<tr>\n",
       "  <th>bathrooms</th> <td>  379.2958</td> <td>   18.735</td> <td>   20.245</td> <td> 0.000</td> <td>  342.546</td> <td>  416.046</td>\n",
       "</tr>\n",
       "</table>\n",
       "<table class=\"simpletable\">\n",
       "<tr>\n",
       "  <th>Omnibus:</th>       <td>85.423</td> <th>  Durbin-Watson:     </th> <td>   1.912</td>\n",
       "</tr>\n",
       "<tr>\n",
       "  <th>Prob(Omnibus):</th> <td> 0.000</td> <th>  Jarque-Bera (JB):  </th> <td> 108.217</td>\n",
       "</tr>\n",
       "<tr>\n",
       "  <th>Skew:</th>          <td> 0.550</td> <th>  Prob(JB):          </th> <td>3.17e-24</td>\n",
       "</tr>\n",
       "<tr>\n",
       "  <th>Kurtosis:</th>      <td> 3.752</td> <th>  Cond. No.          </th> <td>    14.7</td>\n",
       "</tr>\n",
       "</table><br/><br/>Notes:<br/>[1] Standard Errors assume that the covariance matrix of the errors is correctly specified."
      ],
      "text/plain": [
       "<class 'statsmodels.iolib.summary.Summary'>\n",
       "\"\"\"\n",
       "                            OLS Regression Results                            \n",
       "==============================================================================\n",
       "Dep. Variable:         price_per_sqft   R-squared:                       0.322\n",
       "Model:                            OLS   Adj. R-squared:                  0.321\n",
       "Method:                 Least Squares   F-statistic:                     346.8\n",
       "Date:                Thu, 30 Jun 2022   Prob (F-statistic):          5.47e-124\n",
       "Time:                        09:48:00   Log-Likelihood:                -10660.\n",
       "No. Observations:                1464   AIC:                         2.133e+04\n",
       "Df Residuals:                    1461   BIC:                         2.134e+04\n",
       "Df Model:                           2                                         \n",
       "Covariance Type:            nonrobust                                         \n",
       "==============================================================================\n",
       "                 coef    std err          t      P>|t|      [0.025      0.975]\n",
       "------------------------------------------------------------------------------\n",
       "Intercept   1057.4395     27.871     37.941      0.000    1002.769    1112.110\n",
       "rooms        -60.0891     10.717     -5.607      0.000     -81.112     -39.066\n",
       "bathrooms    379.2958     18.735     20.245      0.000     342.546     416.046\n",
       "==============================================================================\n",
       "Omnibus:                       85.423   Durbin-Watson:                   1.912\n",
       "Prob(Omnibus):                  0.000   Jarque-Bera (JB):              108.217\n",
       "Skew:                           0.550   Prob(JB):                     3.17e-24\n",
       "Kurtosis:                       3.752   Cond. No.                         14.7\n",
       "==============================================================================\n",
       "\n",
       "Notes:\n",
       "[1] Standard Errors assume that the covariance matrix of the errors is correctly specified.\n",
       "\"\"\""
      ]
     },
     "execution_count": 15,
     "metadata": {},
     "output_type": "execute_result"
    }
   ],
   "source": [
    "# Show the result\n",
    "reg_result.summary()"
   ]
  },
  {
   "cell_type": "code",
   "execution_count": 16,
   "metadata": {},
   "outputs": [
    {
     "data": {
      "text/plain": [
       "Intercept    1057.439550\n",
       "rooms         -60.089124\n",
       "bathrooms     379.295767\n",
       "dtype: float64"
      ]
     },
     "execution_count": 16,
     "metadata": {},
     "output_type": "execute_result"
    }
   ],
   "source": [
    "reg_result.params"
   ]
  },
  {
   "cell_type": "code",
   "execution_count": 17,
   "metadata": {},
   "outputs": [
    {
     "data": {
      "text/plain": [
       "Intercept    984.682999\n",
       "rooms        111.023066\n",
       "dtype: float64"
      ]
     },
     "execution_count": 17,
     "metadata": {},
     "output_type": "execute_result"
    }
   ],
   "source": [
    "smf.ols('price_per_sqft ~ rooms', data=df_se).fit().params"
   ]
  },
  {
   "cell_type": "code",
   "execution_count": 18,
   "metadata": {},
   "outputs": [
    {
     "data": {
      "text/plain": [
       "Intercept    951.704433\n",
       "bathrooms    296.460172\n",
       "dtype: float64"
      ]
     },
     "execution_count": 18,
     "metadata": {},
     "output_type": "execute_result"
    }
   ],
   "source": [
    "smf.ols('price_per_sqft ~ bathrooms', data=df_se).fit().params"
   ]
  },
  {
   "cell_type": "code",
   "execution_count": 19,
   "metadata": {},
   "outputs": [
    {
     "data": {
      "text/html": [
       "<div>\n",
       "<style scoped>\n",
       "    .dataframe tbody tr th:only-of-type {\n",
       "        vertical-align: middle;\n",
       "    }\n",
       "\n",
       "    .dataframe tbody tr th {\n",
       "        vertical-align: top;\n",
       "    }\n",
       "\n",
       "    .dataframe thead th {\n",
       "        text-align: right;\n",
       "    }\n",
       "</style>\n",
       "<table border=\"1\" class=\"dataframe\">\n",
       "  <thead>\n",
       "    <tr style=\"text-align: right;\">\n",
       "      <th></th>\n",
       "      <th>rooms</th>\n",
       "      <th>bathrooms</th>\n",
       "    </tr>\n",
       "  </thead>\n",
       "  <tbody>\n",
       "    <tr>\n",
       "      <th>0</th>\n",
       "      <td>1</td>\n",
       "      <td>1</td>\n",
       "    </tr>\n",
       "    <tr>\n",
       "      <th>1</th>\n",
       "      <td>1</td>\n",
       "      <td>2</td>\n",
       "    </tr>\n",
       "    <tr>\n",
       "      <th>2</th>\n",
       "      <td>2</td>\n",
       "      <td>1</td>\n",
       "    </tr>\n",
       "    <tr>\n",
       "      <th>3</th>\n",
       "      <td>2</td>\n",
       "      <td>2</td>\n",
       "    </tr>\n",
       "  </tbody>\n",
       "</table>\n",
       "</div>"
      ],
      "text/plain": [
       "   rooms  bathrooms\n",
       "0      1          1\n",
       "1      1          2\n",
       "2      2          1\n",
       "3      2          2"
      ]
     },
     "execution_count": 19,
     "metadata": {},
     "output_type": "execute_result"
    }
   ],
   "source": [
    "new_data = pd.DataFrame({'rooms':[1,1,2,2], 'bathrooms':[1,2,1,2]})\n",
    "new_data"
   ]
  },
  {
   "cell_type": "code",
   "execution_count": 20,
   "metadata": {},
   "outputs": [
    {
     "data": {
      "text/plain": [
       "0    1376.646192\n",
       "1    1755.941959\n",
       "2    1316.557068\n",
       "3    1695.852835\n",
       "dtype: float64"
      ]
     },
     "execution_count": 20,
     "metadata": {},
     "output_type": "execute_result"
    }
   ],
   "source": [
    "reg_result.predict(new_data)"
   ]
  },
  {
   "cell_type": "markdown",
   "metadata": {},
   "source": [
    "### Dummy variables"
   ]
  },
  {
   "cell_type": "code",
   "execution_count": 21,
   "metadata": {},
   "outputs": [
    {
     "data": {
      "text/html": [
       "<table class=\"simpletable\">\n",
       "<caption>OLS Regression Results</caption>\n",
       "<tr>\n",
       "  <th>Dep. Variable:</th>     <td>price_per_sqft</td>  <th>  R-squared:         </th> <td>   0.023</td> \n",
       "</tr>\n",
       "<tr>\n",
       "  <th>Model:</th>                   <td>OLS</td>       <th>  Adj. R-squared:    </th> <td>   0.022</td> \n",
       "</tr>\n",
       "<tr>\n",
       "  <th>Method:</th>             <td>Least Squares</td>  <th>  F-statistic:       </th> <td>   34.19</td> \n",
       "</tr>\n",
       "<tr>\n",
       "  <th>Date:</th>             <td>Thu, 30 Jun 2022</td> <th>  Prob (F-statistic):</th> <td>6.16e-09</td> \n",
       "</tr>\n",
       "<tr>\n",
       "  <th>Time:</th>                 <td>09:48:29</td>     <th>  Log-Likelihood:    </th> <td> -10928.</td> \n",
       "</tr>\n",
       "<tr>\n",
       "  <th>No. Observations:</th>      <td>  1464</td>      <th>  AIC:               </th> <td>2.186e+04</td>\n",
       "</tr>\n",
       "<tr>\n",
       "  <th>Df Residuals:</th>          <td>  1462</td>      <th>  BIC:               </th> <td>2.187e+04</td>\n",
       "</tr>\n",
       "<tr>\n",
       "  <th>Df Model:</th>              <td>     1</td>      <th>                     </th>     <td> </td>    \n",
       "</tr>\n",
       "<tr>\n",
       "  <th>Covariance Type:</th>      <td>nonrobust</td>    <th>                     </th>     <td> </td>    \n",
       "</tr>\n",
       "</table>\n",
       "<table class=\"simpletable\">\n",
       "<tr>\n",
       "      <td></td>         <th>coef</th>     <th>std err</th>      <th>t</th>      <th>P>|t|</th>  <th>[0.025</th>    <th>0.975]</th>  \n",
       "</tr>\n",
       "<tr>\n",
       "  <th>Intercept</th> <td>-4.851e+04</td> <td> 8539.747</td> <td>   -5.680</td> <td> 0.000</td> <td>-6.53e+04</td> <td>-3.18e+04</td>\n",
       "</tr>\n",
       "<tr>\n",
       "  <th>zip_code</th>  <td>    4.9794</td> <td>    0.852</td> <td>    5.847</td> <td> 0.000</td> <td>    3.309</td> <td>    6.650</td>\n",
       "</tr>\n",
       "</table>\n",
       "<table class=\"simpletable\">\n",
       "<tr>\n",
       "  <th>Omnibus:</th>       <td>133.882</td> <th>  Durbin-Watson:     </th> <td>   1.904</td>\n",
       "</tr>\n",
       "<tr>\n",
       "  <th>Prob(Omnibus):</th> <td> 0.000</td>  <th>  Jarque-Bera (JB):  </th> <td> 170.465</td>\n",
       "</tr>\n",
       "<tr>\n",
       "  <th>Skew:</th>          <td> 0.795</td>  <th>  Prob(JB):          </th> <td>9.64e-38</td>\n",
       "</tr>\n",
       "<tr>\n",
       "  <th>Kurtosis:</th>      <td> 3.518</td>  <th>  Cond. No.          </th> <td>7.76e+06</td>\n",
       "</tr>\n",
       "</table><br/><br/>Notes:<br/>[1] Standard Errors assume that the covariance matrix of the errors is correctly specified.<br/>[2] The condition number is large, 7.76e+06. This might indicate that there are<br/>strong multicollinearity or other numerical problems."
      ],
      "text/plain": [
       "<class 'statsmodels.iolib.summary.Summary'>\n",
       "\"\"\"\n",
       "                            OLS Regression Results                            \n",
       "==============================================================================\n",
       "Dep. Variable:         price_per_sqft   R-squared:                       0.023\n",
       "Model:                            OLS   Adj. R-squared:                  0.022\n",
       "Method:                 Least Squares   F-statistic:                     34.19\n",
       "Date:                Thu, 30 Jun 2022   Prob (F-statistic):           6.16e-09\n",
       "Time:                        09:48:29   Log-Likelihood:                -10928.\n",
       "No. Observations:                1464   AIC:                         2.186e+04\n",
       "Df Residuals:                    1462   BIC:                         2.187e+04\n",
       "Df Model:                           1                                         \n",
       "Covariance Type:            nonrobust                                         \n",
       "==============================================================================\n",
       "                 coef    std err          t      P>|t|      [0.025      0.975]\n",
       "------------------------------------------------------------------------------\n",
       "Intercept  -4.851e+04   8539.747     -5.680      0.000   -6.53e+04   -3.18e+04\n",
       "zip_code       4.9794      0.852      5.847      0.000       3.309       6.650\n",
       "==============================================================================\n",
       "Omnibus:                      133.882   Durbin-Watson:                   1.904\n",
       "Prob(Omnibus):                  0.000   Jarque-Bera (JB):              170.465\n",
       "Skew:                           0.795   Prob(JB):                     9.64e-38\n",
       "Kurtosis:                       3.518   Cond. No.                     7.76e+06\n",
       "==============================================================================\n",
       "\n",
       "Notes:\n",
       "[1] Standard Errors assume that the covariance matrix of the errors is correctly specified.\n",
       "[2] The condition number is large, 7.76e+06. This might indicate that there are\n",
       "strong multicollinearity or other numerical problems.\n",
       "\"\"\""
      ]
     },
     "execution_count": 21,
     "metadata": {},
     "output_type": "execute_result"
    }
   ],
   "source": [
    "smf.ols('price_per_sqft ~ zip_code', data=df_se).fit().summary()"
   ]
  },
  {
   "cell_type": "code",
   "execution_count": 21,
   "metadata": {},
   "outputs": [
    {
     "data": {
      "text/html": [
       "<table class=\"simpletable\">\n",
       "<caption>OLS Regression Results</caption>\n",
       "<tr>\n",
       "  <th>Dep. Variable:</th>     <td>price_per_sqft</td>  <th>  R-squared:         </th> <td>   0.089</td> \n",
       "</tr>\n",
       "<tr>\n",
       "  <th>Model:</th>                   <td>OLS</td>       <th>  Adj. R-squared:    </th> <td>   0.088</td> \n",
       "</tr>\n",
       "<tr>\n",
       "  <th>Method:</th>             <td>Least Squares</td>  <th>  F-statistic:       </th> <td>   47.77</td> \n",
       "</tr>\n",
       "<tr>\n",
       "  <th>Date:</th>             <td>Tue, 04 Jan 2022</td> <th>  Prob (F-statistic):</th> <td>1.89e-29</td> \n",
       "</tr>\n",
       "<tr>\n",
       "  <th>Time:</th>                 <td>16:16:39</td>     <th>  Log-Likelihood:    </th> <td> -10876.</td> \n",
       "</tr>\n",
       "<tr>\n",
       "  <th>No. Observations:</th>      <td>  1464</td>      <th>  AIC:               </th> <td>2.176e+04</td>\n",
       "</tr>\n",
       "<tr>\n",
       "  <th>Df Residuals:</th>          <td>  1460</td>      <th>  BIC:               </th> <td>2.178e+04</td>\n",
       "</tr>\n",
       "<tr>\n",
       "  <th>Df Model:</th>              <td>     3</td>      <th>                     </th>     <td> </td>    \n",
       "</tr>\n",
       "<tr>\n",
       "  <th>Covariance Type:</th>      <td>nonrobust</td>    <th>                     </th>     <td> </td>    \n",
       "</tr>\n",
       "</table>\n",
       "<table class=\"simpletable\">\n",
       "<tr>\n",
       "            <td></td>              <th>coef</th>     <th>std err</th>      <th>t</th>      <th>P>|t|</th>  <th>[0.025</th>    <th>0.975]</th>  \n",
       "</tr>\n",
       "<tr>\n",
       "  <th>Intercept</th>            <td> 1522.7123</td> <td>   17.916</td> <td>   84.993</td> <td> 0.000</td> <td> 1487.569</td> <td> 1557.856</td>\n",
       "</tr>\n",
       "<tr>\n",
       "  <th>C(zip_code)[T.10024]</th> <td> -116.2938</td> <td>   28.737</td> <td>   -4.047</td> <td> 0.000</td> <td> -172.663</td> <td>  -59.925</td>\n",
       "</tr>\n",
       "<tr>\n",
       "  <th>C(zip_code)[T.10025]</th> <td> -256.0747</td> <td>   25.818</td> <td>   -9.918</td> <td> 0.000</td> <td> -306.720</td> <td> -205.429</td>\n",
       "</tr>\n",
       "<tr>\n",
       "  <th>C(zip_code)[T.10069]</th> <td>  127.0532</td> <td>   39.668</td> <td>    3.203</td> <td> 0.001</td> <td>   49.242</td> <td>  204.865</td>\n",
       "</tr>\n",
       "</table>\n",
       "<table class=\"simpletable\">\n",
       "<tr>\n",
       "  <th>Omnibus:</th>       <td>73.328</td> <th>  Durbin-Watson:     </th> <td>   1.892</td>\n",
       "</tr>\n",
       "<tr>\n",
       "  <th>Prob(Omnibus):</th> <td> 0.000</td> <th>  Jarque-Bera (JB):  </th> <td>  83.614</td>\n",
       "</tr>\n",
       "<tr>\n",
       "  <th>Skew:</th>          <td> 0.558</td> <th>  Prob(JB):          </th> <td>6.97e-19</td>\n",
       "</tr>\n",
       "<tr>\n",
       "  <th>Kurtosis:</th>      <td> 3.357</td> <th>  Cond. No.          </th> <td>    4.57</td>\n",
       "</tr>\n",
       "</table><br/><br/>Notes:<br/>[1] Standard Errors assume that the covariance matrix of the errors is correctly specified."
      ],
      "text/plain": [
       "<class 'statsmodels.iolib.summary.Summary'>\n",
       "\"\"\"\n",
       "                            OLS Regression Results                            \n",
       "==============================================================================\n",
       "Dep. Variable:         price_per_sqft   R-squared:                       0.089\n",
       "Model:                            OLS   Adj. R-squared:                  0.088\n",
       "Method:                 Least Squares   F-statistic:                     47.77\n",
       "Date:                Tue, 04 Jan 2022   Prob (F-statistic):           1.89e-29\n",
       "Time:                        16:16:39   Log-Likelihood:                -10876.\n",
       "No. Observations:                1464   AIC:                         2.176e+04\n",
       "Df Residuals:                    1460   BIC:                         2.178e+04\n",
       "Df Model:                           3                                         \n",
       "Covariance Type:            nonrobust                                         \n",
       "========================================================================================\n",
       "                           coef    std err          t      P>|t|      [0.025      0.975]\n",
       "----------------------------------------------------------------------------------------\n",
       "Intercept             1522.7123     17.916     84.993      0.000    1487.569    1557.856\n",
       "C(zip_code)[T.10024]  -116.2938     28.737     -4.047      0.000    -172.663     -59.925\n",
       "C(zip_code)[T.10025]  -256.0747     25.818     -9.918      0.000    -306.720    -205.429\n",
       "C(zip_code)[T.10069]   127.0532     39.668      3.203      0.001      49.242     204.865\n",
       "==============================================================================\n",
       "Omnibus:                       73.328   Durbin-Watson:                   1.892\n",
       "Prob(Omnibus):                  0.000   Jarque-Bera (JB):               83.614\n",
       "Skew:                           0.558   Prob(JB):                     6.97e-19\n",
       "Kurtosis:                       3.357   Cond. No.                         4.57\n",
       "==============================================================================\n",
       "\n",
       "Notes:\n",
       "[1] Standard Errors assume that the covariance matrix of the errors is correctly specified.\n",
       "\"\"\""
      ]
     },
     "execution_count": 21,
     "metadata": {},
     "output_type": "execute_result"
    }
   ],
   "source": [
    "smf.ols('price_per_sqft ~ C(zip_code)', data=df_se).fit().summary()"
   ]
  },
  {
   "cell_type": "code",
   "execution_count": 22,
   "metadata": {},
   "outputs": [
    {
     "data": {
      "text/html": [
       "<table class=\"simpletable\">\n",
       "<caption>OLS Regression Results</caption>\n",
       "<tr>\n",
       "  <th>Dep. Variable:</th>     <td>price_per_sqft</td>  <th>  R-squared:         </th> <td>   0.467</td> \n",
       "</tr>\n",
       "<tr>\n",
       "  <th>Model:</th>                   <td>OLS</td>       <th>  Adj. R-squared:    </th> <td>   0.466</td> \n",
       "</tr>\n",
       "<tr>\n",
       "  <th>Method:</th>             <td>Least Squares</td>  <th>  F-statistic:       </th> <td>   256.0</td> \n",
       "</tr>\n",
       "<tr>\n",
       "  <th>Date:</th>             <td>Tue, 04 Jan 2022</td> <th>  Prob (F-statistic):</th> <td>1.48e-196</td>\n",
       "</tr>\n",
       "<tr>\n",
       "  <th>Time:</th>                 <td>16:16:39</td>     <th>  Log-Likelihood:    </th> <td> -10484.</td> \n",
       "</tr>\n",
       "<tr>\n",
       "  <th>No. Observations:</th>      <td>  1464</td>      <th>  AIC:               </th> <td>2.098e+04</td>\n",
       "</tr>\n",
       "<tr>\n",
       "  <th>Df Residuals:</th>          <td>  1458</td>      <th>  BIC:               </th> <td>2.101e+04</td>\n",
       "</tr>\n",
       "<tr>\n",
       "  <th>Df Model:</th>              <td>     5</td>      <th>                     </th>     <td> </td>    \n",
       "</tr>\n",
       "<tr>\n",
       "  <th>Covariance Type:</th>      <td>nonrobust</td>    <th>                     </th>     <td> </td>    \n",
       "</tr>\n",
       "</table>\n",
       "<table class=\"simpletable\">\n",
       "<tr>\n",
       "              <td></td>                <th>coef</th>     <th>std err</th>      <th>t</th>      <th>P>|t|</th>  <th>[0.025</th>    <th>0.975]</th>  \n",
       "</tr>\n",
       "<tr>\n",
       "  <th>Intercept</th>                <td> 1594.2265</td> <td>   21.326</td> <td>   74.756</td> <td> 0.000</td> <td> 1552.394</td> <td> 1636.059</td>\n",
       "</tr>\n",
       "<tr>\n",
       "  <th>C(zip_code)[T.10024]</th>     <td>  -16.8472</td> <td>   22.787</td> <td>   -0.739</td> <td> 0.460</td> <td>  -61.546</td> <td>   27.852</td>\n",
       "</tr>\n",
       "<tr>\n",
       "  <th>C(zip_code)[T.10025]</th>     <td> -241.5274</td> <td>   20.228</td> <td>  -11.940</td> <td> 0.000</td> <td> -281.206</td> <td> -201.849</td>\n",
       "</tr>\n",
       "<tr>\n",
       "  <th>C(zip_code)[T.10069]</th>     <td> -101.9790</td> <td>   31.248</td> <td>   -3.263</td> <td> 0.001</td> <td> -163.276</td> <td>  -40.682</td>\n",
       "</tr>\n",
       "<tr>\n",
       "  <th>C(property_type)[T.coop]</th> <td> -496.2814</td> <td>   17.449</td> <td>  -28.441</td> <td> 0.000</td> <td> -530.510</td> <td> -462.053</td>\n",
       "</tr>\n",
       "<tr>\n",
       "  <th>floor</th>                    <td>   12.4461</td> <td>    1.123</td> <td>   11.087</td> <td> 0.000</td> <td>   10.244</td> <td>   14.648</td>\n",
       "</tr>\n",
       "</table>\n",
       "<table class=\"simpletable\">\n",
       "<tr>\n",
       "  <th>Omnibus:</th>       <td>223.361</td> <th>  Durbin-Watson:     </th> <td>   1.924</td> \n",
       "</tr>\n",
       "<tr>\n",
       "  <th>Prob(Omnibus):</th> <td> 0.000</td>  <th>  Jarque-Bera (JB):  </th> <td> 557.696</td> \n",
       "</tr>\n",
       "<tr>\n",
       "  <th>Skew:</th>          <td> 0.833</td>  <th>  Prob(JB):          </th> <td>7.91e-122</td>\n",
       "</tr>\n",
       "<tr>\n",
       "  <th>Kurtosis:</th>      <td> 5.524</td>  <th>  Cond. No.          </th> <td>    55.6</td> \n",
       "</tr>\n",
       "</table><br/><br/>Notes:<br/>[1] Standard Errors assume that the covariance matrix of the errors is correctly specified."
      ],
      "text/plain": [
       "<class 'statsmodels.iolib.summary.Summary'>\n",
       "\"\"\"\n",
       "                            OLS Regression Results                            \n",
       "==============================================================================\n",
       "Dep. Variable:         price_per_sqft   R-squared:                       0.467\n",
       "Model:                            OLS   Adj. R-squared:                  0.466\n",
       "Method:                 Least Squares   F-statistic:                     256.0\n",
       "Date:                Tue, 04 Jan 2022   Prob (F-statistic):          1.48e-196\n",
       "Time:                        16:16:39   Log-Likelihood:                -10484.\n",
       "No. Observations:                1464   AIC:                         2.098e+04\n",
       "Df Residuals:                    1458   BIC:                         2.101e+04\n",
       "Df Model:                           5                                         \n",
       "Covariance Type:            nonrobust                                         \n",
       "============================================================================================\n",
       "                               coef    std err          t      P>|t|      [0.025      0.975]\n",
       "--------------------------------------------------------------------------------------------\n",
       "Intercept                 1594.2265     21.326     74.756      0.000    1552.394    1636.059\n",
       "C(zip_code)[T.10024]       -16.8472     22.787     -0.739      0.460     -61.546      27.852\n",
       "C(zip_code)[T.10025]      -241.5274     20.228    -11.940      0.000    -281.206    -201.849\n",
       "C(zip_code)[T.10069]      -101.9790     31.248     -3.263      0.001    -163.276     -40.682\n",
       "C(property_type)[T.coop]  -496.2814     17.449    -28.441      0.000    -530.510    -462.053\n",
       "floor                       12.4461      1.123     11.087      0.000      10.244      14.648\n",
       "==============================================================================\n",
       "Omnibus:                      223.361   Durbin-Watson:                   1.924\n",
       "Prob(Omnibus):                  0.000   Jarque-Bera (JB):              557.696\n",
       "Skew:                           0.833   Prob(JB):                    7.91e-122\n",
       "Kurtosis:                       5.524   Cond. No.                         55.6\n",
       "==============================================================================\n",
       "\n",
       "Notes:\n",
       "[1] Standard Errors assume that the covariance matrix of the errors is correctly specified.\n",
       "\"\"\""
      ]
     },
     "execution_count": 22,
     "metadata": {},
     "output_type": "execute_result"
    }
   ],
   "source": [
    "smf.ols('price_per_sqft ~ C(zip_code) + C(property_type) + floor', data=df_se).fit().summary()"
   ]
  },
  {
   "cell_type": "markdown",
   "metadata": {},
   "source": [
    "### The distribution of the $\\hat{\\beta}$"
   ]
  },
  {
   "cell_type": "code",
   "execution_count": 23,
   "metadata": {},
   "outputs": [
    {
     "data": {
      "text/html": [
       "<img src onerror=\"var cell = this.closest('.code_cell');var editor = cell.querySelector('.input_area');editor.style.background='#bde4f0';this.parentNode.removeChild(this)\">"
      ],
      "text/plain": [
       "<IPython.core.display.HTML object>"
      ]
     },
     "metadata": {},
     "output_type": "display_data"
    },
    {
     "data": {
      "text/html": [
       "<div>\n",
       "<style scoped>\n",
       "    .dataframe tbody tr th:only-of-type {\n",
       "        vertical-align: middle;\n",
       "    }\n",
       "\n",
       "    .dataframe tbody tr th {\n",
       "        vertical-align: top;\n",
       "    }\n",
       "\n",
       "    .dataframe thead th {\n",
       "        text-align: right;\n",
       "    }\n",
       "</style>\n",
       "<table border=\"1\" class=\"dataframe\">\n",
       "  <thead>\n",
       "    <tr style=\"text-align: right;\">\n",
       "      <th></th>\n",
       "      <th>beta_hat</th>\n",
       "      <th>st dev</th>\n",
       "    </tr>\n",
       "  </thead>\n",
       "  <tbody>\n",
       "    <tr>\n",
       "      <th>0</th>\n",
       "      <td>1093.207192</td>\n",
       "      <td>34.007061</td>\n",
       "    </tr>\n",
       "    <tr>\n",
       "      <th>1</th>\n",
       "      <td>-0.047011</td>\n",
       "      <td>0.046311</td>\n",
       "    </tr>\n",
       "    <tr>\n",
       "      <th>2</th>\n",
       "      <td>54.176649</td>\n",
       "      <td>22.917981</td>\n",
       "    </tr>\n",
       "    <tr>\n",
       "      <th>3</th>\n",
       "      <td>379.365368</td>\n",
       "      <td>26.074917</td>\n",
       "    </tr>\n",
       "    <tr>\n",
       "      <th>4</th>\n",
       "      <td>-77.937874</td>\n",
       "      <td>16.011876</td>\n",
       "    </tr>\n",
       "  </tbody>\n",
       "</table>\n",
       "</div>"
      ],
      "text/plain": [
       "      beta_hat     st dev\n",
       "0  1093.207192  34.007061\n",
       "1    -0.047011   0.046311\n",
       "2    54.176649  22.917981\n",
       "3   379.365368  26.074917\n",
       "4   -77.937874  16.011876"
      ]
     },
     "execution_count": 23,
     "metadata": {},
     "output_type": "execute_result"
    }
   ],
   "source": [
    "optional_material()\n",
    "\n",
    "import numpy as np\n",
    "\n",
    "# Create the X and y matrices\n",
    "X = df_se[['sqft', 'bedrooms', 'bathrooms', 'rooms']].to_numpy()\n",
    "y = df_se.price_per_sqft.to_numpy()\n",
    "\n",
    "# Add a column of 1s to the X matrix for the intercept\n",
    "X = np.append(np.ones((len(df_se), 1)), X, axis=1)\n",
    "\n",
    "# Calculate beta_hat\n",
    "beta_hat = np.linalg.inv(X.transpose() @ X) @ X.transpose() @ y\n",
    "\n",
    "# Calculate s_epsilon_squared, and unbiased estimate of sigma_epsilon_squared\n",
    "s_epsilon_squared = (((X @ beta_hat) - y)**2).sum()/(len(df_se)-4-1)\n",
    "\n",
    "# Calculate the variance on the betas\n",
    "beta_vars = s_epsilon_squared * np.diagonal(np.linalg.inv(X.transpose() @ X))\n",
    "\n",
    "pd.DataFrame([beta_hat, np.sqrt(beta_vars)], index=['beta_hat', 'st dev']).transpose()"
   ]
  },
  {
   "cell_type": "code",
   "execution_count": 24,
   "metadata": {},
   "outputs": [
    {
     "data": {
      "text/html": [
       "<table class=\"simpletable\">\n",
       "<caption>OLS Regression Results</caption>\n",
       "<tr>\n",
       "  <th>Dep. Variable:</th>     <td>price_per_sqft</td>  <th>  R-squared:         </th> <td>   0.325</td> \n",
       "</tr>\n",
       "<tr>\n",
       "  <th>Model:</th>                   <td>OLS</td>       <th>  Adj. R-squared:    </th> <td>   0.323</td> \n",
       "</tr>\n",
       "<tr>\n",
       "  <th>Method:</th>             <td>Least Squares</td>  <th>  F-statistic:       </th> <td>   175.4</td> \n",
       "</tr>\n",
       "<tr>\n",
       "  <th>Date:</th>             <td>Tue, 04 Jan 2022</td> <th>  Prob (F-statistic):</th> <td>1.01e-122</td>\n",
       "</tr>\n",
       "<tr>\n",
       "  <th>Time:</th>                 <td>16:16:39</td>     <th>  Log-Likelihood:    </th> <td> -10658.</td> \n",
       "</tr>\n",
       "<tr>\n",
       "  <th>No. Observations:</th>      <td>  1464</td>      <th>  AIC:               </th> <td>2.133e+04</td>\n",
       "</tr>\n",
       "<tr>\n",
       "  <th>Df Residuals:</th>          <td>  1459</td>      <th>  BIC:               </th> <td>2.135e+04</td>\n",
       "</tr>\n",
       "<tr>\n",
       "  <th>Df Model:</th>              <td>     4</td>      <th>                     </th>     <td> </td>    \n",
       "</tr>\n",
       "<tr>\n",
       "  <th>Covariance Type:</th>      <td>nonrobust</td>    <th>                     </th>     <td> </td>    \n",
       "</tr>\n",
       "</table>\n",
       "<table class=\"simpletable\">\n",
       "<tr>\n",
       "      <td></td>         <th>coef</th>     <th>std err</th>      <th>t</th>      <th>P>|t|</th>  <th>[0.025</th>    <th>0.975]</th>  \n",
       "</tr>\n",
       "<tr>\n",
       "  <th>Intercept</th> <td> 1093.2072</td> <td>   34.007</td> <td>   32.146</td> <td> 0.000</td> <td> 1026.499</td> <td> 1159.915</td>\n",
       "</tr>\n",
       "<tr>\n",
       "  <th>sqft</th>      <td>   -0.0470</td> <td>    0.046</td> <td>   -1.015</td> <td> 0.310</td> <td>   -0.138</td> <td>    0.044</td>\n",
       "</tr>\n",
       "<tr>\n",
       "  <th>bedrooms</th>  <td>   54.1766</td> <td>   22.918</td> <td>    2.364</td> <td> 0.018</td> <td>    9.221</td> <td>   99.132</td>\n",
       "</tr>\n",
       "<tr>\n",
       "  <th>bathrooms</th> <td>  379.3654</td> <td>   26.075</td> <td>   14.549</td> <td> 0.000</td> <td>  328.217</td> <td>  430.514</td>\n",
       "</tr>\n",
       "<tr>\n",
       "  <th>rooms</th>     <td>  -77.9379</td> <td>   16.012</td> <td>   -4.868</td> <td> 0.000</td> <td> -109.347</td> <td>  -46.529</td>\n",
       "</tr>\n",
       "</table>\n",
       "<table class=\"simpletable\">\n",
       "<tr>\n",
       "  <th>Omnibus:</th>       <td>90.184</td> <th>  Durbin-Watson:     </th> <td>   1.923</td>\n",
       "</tr>\n",
       "<tr>\n",
       "  <th>Prob(Omnibus):</th> <td> 0.000</td> <th>  Jarque-Bera (JB):  </th> <td> 114.171</td>\n",
       "</tr>\n",
       "<tr>\n",
       "  <th>Skew:</th>          <td> 0.572</td> <th>  Prob(JB):          </th> <td>1.61e-25</td>\n",
       "</tr>\n",
       "<tr>\n",
       "  <th>Kurtosis:</th>      <td> 3.749</td> <th>  Cond. No.          </th> <td>5.17e+03</td>\n",
       "</tr>\n",
       "</table><br/><br/>Notes:<br/>[1] Standard Errors assume that the covariance matrix of the errors is correctly specified.<br/>[2] The condition number is large, 5.17e+03. This might indicate that there are<br/>strong multicollinearity or other numerical problems."
      ],
      "text/plain": [
       "<class 'statsmodels.iolib.summary.Summary'>\n",
       "\"\"\"\n",
       "                            OLS Regression Results                            \n",
       "==============================================================================\n",
       "Dep. Variable:         price_per_sqft   R-squared:                       0.325\n",
       "Model:                            OLS   Adj. R-squared:                  0.323\n",
       "Method:                 Least Squares   F-statistic:                     175.4\n",
       "Date:                Tue, 04 Jan 2022   Prob (F-statistic):          1.01e-122\n",
       "Time:                        16:16:39   Log-Likelihood:                -10658.\n",
       "No. Observations:                1464   AIC:                         2.133e+04\n",
       "Df Residuals:                    1459   BIC:                         2.135e+04\n",
       "Df Model:                           4                                         \n",
       "Covariance Type:            nonrobust                                         \n",
       "==============================================================================\n",
       "                 coef    std err          t      P>|t|      [0.025      0.975]\n",
       "------------------------------------------------------------------------------\n",
       "Intercept   1093.2072     34.007     32.146      0.000    1026.499    1159.915\n",
       "sqft          -0.0470      0.046     -1.015      0.310      -0.138       0.044\n",
       "bedrooms      54.1766     22.918      2.364      0.018       9.221      99.132\n",
       "bathrooms    379.3654     26.075     14.549      0.000     328.217     430.514\n",
       "rooms        -77.9379     16.012     -4.868      0.000    -109.347     -46.529\n",
       "==============================================================================\n",
       "Omnibus:                       90.184   Durbin-Watson:                   1.923\n",
       "Prob(Omnibus):                  0.000   Jarque-Bera (JB):              114.171\n",
       "Skew:                           0.572   Prob(JB):                     1.61e-25\n",
       "Kurtosis:                       3.749   Cond. No.                     5.17e+03\n",
       "==============================================================================\n",
       "\n",
       "Notes:\n",
       "[1] Standard Errors assume that the covariance matrix of the errors is correctly specified.\n",
       "[2] The condition number is large, 5.17e+03. This might indicate that there are\n",
       "strong multicollinearity or other numerical problems.\n",
       "\"\"\""
      ]
     },
     "execution_count": 24,
     "metadata": {},
     "output_type": "execute_result"
    }
   ],
   "source": [
    "smf.ols('price_per_sqft ~ sqft + bedrooms + bathrooms + rooms', data=df_se).fit().summary()"
   ]
  },
  {
   "cell_type": "markdown",
   "metadata": {},
   "source": [
    "### Prediction and confidence intervals"
   ]
  },
  {
   "cell_type": "code",
   "execution_count": 25,
   "metadata": {},
   "outputs": [],
   "source": [
    "reg = smf.ols('price_per_sqft ~ sqft + bedrooms + bathrooms + rooms', data=df_se).fit()"
   ]
  },
  {
   "cell_type": "code",
   "execution_count": 26,
   "metadata": {},
   "outputs": [
    {
     "data": {
      "text/html": [
       "<div>\n",
       "<style scoped>\n",
       "    .dataframe tbody tr th:only-of-type {\n",
       "        vertical-align: middle;\n",
       "    }\n",
       "\n",
       "    .dataframe tbody tr th {\n",
       "        vertical-align: top;\n",
       "    }\n",
       "\n",
       "    .dataframe thead th {\n",
       "        text-align: right;\n",
       "    }\n",
       "</style>\n",
       "<table border=\"1\" class=\"dataframe\">\n",
       "  <thead>\n",
       "    <tr style=\"text-align: right;\">\n",
       "      <th></th>\n",
       "      <th>sqft</th>\n",
       "      <th>bedrooms</th>\n",
       "      <th>bathrooms</th>\n",
       "      <th>rooms</th>\n",
       "    </tr>\n",
       "  </thead>\n",
       "  <tbody>\n",
       "    <tr>\n",
       "      <th>0</th>\n",
       "      <td>565</td>\n",
       "      <td>0</td>\n",
       "      <td>1</td>\n",
       "      <td>1</td>\n",
       "    </tr>\n",
       "  </tbody>\n",
       "</table>\n",
       "</div>"
      ],
      "text/plain": [
       "   sqft  bedrooms  bathrooms  rooms\n",
       "0   565         0          1      1"
      ]
     },
     "execution_count": 26,
     "metadata": {},
     "output_type": "execute_result"
    }
   ],
   "source": [
    "new_home = pd.DataFrame({'sqft':[565], 'bedrooms':[0], 'bathrooms':[1], 'rooms':[1]})\n",
    "new_home"
   ]
  },
  {
   "cell_type": "code",
   "execution_count": 27,
   "metadata": {},
   "outputs": [
    {
     "data": {
      "text/plain": [
       "0    1368.073354\n",
       "dtype: float64"
      ]
     },
     "execution_count": 27,
     "metadata": {},
     "output_type": "execute_result"
    }
   ],
   "source": [
    "reg.predict(new_home)"
   ]
  },
  {
   "cell_type": "code",
   "execution_count": 28,
   "metadata": {},
   "outputs": [
    {
     "data": {
      "text/html": [
       "<img src onerror=\"var cell = this.closest('.code_cell');var editor = cell.querySelector('.input_area');editor.style.background='#bde4f0';this.parentNode.removeChild(this)\">"
      ],
      "text/plain": [
       "<IPython.core.display.HTML object>"
      ]
     },
     "metadata": {},
     "output_type": "display_data"
    },
    {
     "name": "stdout",
     "output_type": "stream",
     "text": [
      "[1368.07335384]\n",
      "27.375256124343135\n",
      "352.67199472677015\n"
     ]
    }
   ],
   "source": [
    "optional_material()\n",
    "\n",
    "import numpy as np\n",
    "\n",
    "# Create the X and y matrices\n",
    "X = df_se[['sqft', 'bedrooms', 'bathrooms', 'rooms']].to_numpy()\n",
    "y = df_se.price_per_sqft.to_numpy()\n",
    "\n",
    "# Add a column of 1s to the X matrix for the intercept\n",
    "X = np.append(np.ones((len(df_se), 1)), X, axis=1)\n",
    "\n",
    "# Calculate beta_hat\n",
    "beta_hat = np.linalg.inv(X.transpose() @ X) @ X.transpose() @ y\n",
    "\n",
    "# Calculate s_epsilon_squared, and unbiased estimate of sigma_epsilon_squared\n",
    "s_epsilon_squared = (((X @ beta_hat) - y)**2).sum()/(len(df_se)-4-1)\n",
    "\n",
    "# Calculate the full Covariance matrix\n",
    "cov_matrix = s_epsilon_squared * np.diagonal(np.linalg.inv(X.transpose() @ X))\n",
    "\n",
    "# Create the X matrix for the new data point\n",
    "X_new = new_home.to_numpy()\n",
    "X_new = np.append(np.ones((1,1)), X_new, axis=1)\n",
    "\n",
    "# Print the prediction X beta_hat\n",
    "print( X_new @ beta_hat )\n",
    "\n",
    "# Print the standard error on X_new @ beta_hat\n",
    "print(np.sqrt(s_epsilon_squared * X_new @ np.linalg.inv(X.transpose() @ X) @ X_new.transpose())[0][0])\n",
    "\n",
    "# Add the standard error for an observation\n",
    "print(np.sqrt(s_epsilon_squared * ((X_new @ np.linalg.inv(X.transpose() @ X) @ X_new.transpose())[0][0]+1)))"
   ]
  },
  {
   "cell_type": "code",
   "execution_count": 29,
   "metadata": {},
   "outputs": [],
   "source": [
    "predictions = reg.get_prediction(new_home)"
   ]
  },
  {
   "cell_type": "code",
   "execution_count": 30,
   "metadata": {},
   "outputs": [
    {
     "data": {
      "text/plain": [
       "array([1368.07335384])"
      ]
     },
     "execution_count": 30,
     "metadata": {},
     "output_type": "execute_result"
    }
   ],
   "source": [
    "predictions.predicted_mean"
   ]
  },
  {
   "cell_type": "code",
   "execution_count": 31,
   "metadata": {},
   "outputs": [
    {
     "data": {
      "text/plain": [
       "array([27.37525612])"
      ]
     },
     "execution_count": 31,
     "metadata": {},
     "output_type": "execute_result"
    }
   ],
   "source": [
    "predictions.se_mean"
   ]
  },
  {
   "cell_type": "code",
   "execution_count": 32,
   "metadata": {},
   "outputs": [
    {
     "data": {
      "text/plain": [
       "array([352.67199473])"
      ]
     },
     "execution_count": 32,
     "metadata": {},
     "output_type": "execute_result"
    }
   ],
   "source": [
    "predictions.se_obs"
   ]
  },
  {
   "cell_type": "code",
   "execution_count": 33,
   "metadata": {},
   "outputs": [
    {
     "data": {
      "text/html": [
       "<div>\n",
       "<style scoped>\n",
       "    .dataframe tbody tr th:only-of-type {\n",
       "        vertical-align: middle;\n",
       "    }\n",
       "\n",
       "    .dataframe tbody tr th {\n",
       "        vertical-align: top;\n",
       "    }\n",
       "\n",
       "    .dataframe thead th {\n",
       "        text-align: right;\n",
       "    }\n",
       "</style>\n",
       "<table border=\"1\" class=\"dataframe\">\n",
       "  <thead>\n",
       "    <tr style=\"text-align: right;\">\n",
       "      <th></th>\n",
       "      <th>mean</th>\n",
       "      <th>mean_se</th>\n",
       "      <th>mean_ci_lower</th>\n",
       "      <th>mean_ci_upper</th>\n",
       "      <th>obs_ci_lower</th>\n",
       "      <th>obs_ci_upper</th>\n",
       "    </tr>\n",
       "  </thead>\n",
       "  <tbody>\n",
       "    <tr>\n",
       "      <th>0</th>\n",
       "      <td>1368.073354</td>\n",
       "      <td>27.375256</td>\n",
       "      <td>1314.37429</td>\n",
       "      <td>1421.772417</td>\n",
       "      <td>676.275048</td>\n",
       "      <td>2059.871659</td>\n",
       "    </tr>\n",
       "  </tbody>\n",
       "</table>\n",
       "</div>"
      ],
      "text/plain": [
       "          mean    mean_se  mean_ci_lower  mean_ci_upper  obs_ci_lower  \\\n",
       "0  1368.073354  27.375256     1314.37429    1421.772417    676.275048   \n",
       "\n",
       "   obs_ci_upper  \n",
       "0   2059.871659  "
      ]
     },
     "execution_count": 33,
     "metadata": {},
     "output_type": "execute_result"
    }
   ],
   "source": [
    "predictions.summary_frame()"
   ]
  },
  {
   "cell_type": "markdown",
   "metadata": {},
   "source": [
    "### Hypothesis tests on the $\\hat{\\beta}$"
   ]
  },
  {
   "cell_type": "code",
   "execution_count": 34,
   "metadata": {},
   "outputs": [
    {
     "data": {
      "text/html": [
       "<table class=\"simpletable\">\n",
       "<caption>OLS Regression Results</caption>\n",
       "<tr>\n",
       "  <th>Dep. Variable:</th>     <td>price_per_sqft</td>  <th>  R-squared:         </th> <td>   0.325</td> \n",
       "</tr>\n",
       "<tr>\n",
       "  <th>Model:</th>                   <td>OLS</td>       <th>  Adj. R-squared:    </th> <td>   0.323</td> \n",
       "</tr>\n",
       "<tr>\n",
       "  <th>Method:</th>             <td>Least Squares</td>  <th>  F-statistic:       </th> <td>   175.4</td> \n",
       "</tr>\n",
       "<tr>\n",
       "  <th>Date:</th>             <td>Tue, 04 Jan 2022</td> <th>  Prob (F-statistic):</th> <td>1.01e-122</td>\n",
       "</tr>\n",
       "<tr>\n",
       "  <th>Time:</th>                 <td>16:16:39</td>     <th>  Log-Likelihood:    </th> <td> -10658.</td> \n",
       "</tr>\n",
       "<tr>\n",
       "  <th>No. Observations:</th>      <td>  1464</td>      <th>  AIC:               </th> <td>2.133e+04</td>\n",
       "</tr>\n",
       "<tr>\n",
       "  <th>Df Residuals:</th>          <td>  1459</td>      <th>  BIC:               </th> <td>2.135e+04</td>\n",
       "</tr>\n",
       "<tr>\n",
       "  <th>Df Model:</th>              <td>     4</td>      <th>                     </th>     <td> </td>    \n",
       "</tr>\n",
       "<tr>\n",
       "  <th>Covariance Type:</th>      <td>nonrobust</td>    <th>                     </th>     <td> </td>    \n",
       "</tr>\n",
       "</table>\n",
       "<table class=\"simpletable\">\n",
       "<tr>\n",
       "      <td></td>         <th>coef</th>     <th>std err</th>      <th>t</th>      <th>P>|t|</th>  <th>[0.025</th>    <th>0.975]</th>  \n",
       "</tr>\n",
       "<tr>\n",
       "  <th>Intercept</th> <td> 1093.2072</td> <td>   34.007</td> <td>   32.146</td> <td> 0.000</td> <td> 1026.499</td> <td> 1159.915</td>\n",
       "</tr>\n",
       "<tr>\n",
       "  <th>sqft</th>      <td>   -0.0470</td> <td>    0.046</td> <td>   -1.015</td> <td> 0.310</td> <td>   -0.138</td> <td>    0.044</td>\n",
       "</tr>\n",
       "<tr>\n",
       "  <th>bedrooms</th>  <td>   54.1766</td> <td>   22.918</td> <td>    2.364</td> <td> 0.018</td> <td>    9.221</td> <td>   99.132</td>\n",
       "</tr>\n",
       "<tr>\n",
       "  <th>bathrooms</th> <td>  379.3654</td> <td>   26.075</td> <td>   14.549</td> <td> 0.000</td> <td>  328.217</td> <td>  430.514</td>\n",
       "</tr>\n",
       "<tr>\n",
       "  <th>rooms</th>     <td>  -77.9379</td> <td>   16.012</td> <td>   -4.868</td> <td> 0.000</td> <td> -109.347</td> <td>  -46.529</td>\n",
       "</tr>\n",
       "</table>\n",
       "<table class=\"simpletable\">\n",
       "<tr>\n",
       "  <th>Omnibus:</th>       <td>90.184</td> <th>  Durbin-Watson:     </th> <td>   1.923</td>\n",
       "</tr>\n",
       "<tr>\n",
       "  <th>Prob(Omnibus):</th> <td> 0.000</td> <th>  Jarque-Bera (JB):  </th> <td> 114.171</td>\n",
       "</tr>\n",
       "<tr>\n",
       "  <th>Skew:</th>          <td> 0.572</td> <th>  Prob(JB):          </th> <td>1.61e-25</td>\n",
       "</tr>\n",
       "<tr>\n",
       "  <th>Kurtosis:</th>      <td> 3.749</td> <th>  Cond. No.          </th> <td>5.17e+03</td>\n",
       "</tr>\n",
       "</table><br/><br/>Notes:<br/>[1] Standard Errors assume that the covariance matrix of the errors is correctly specified.<br/>[2] The condition number is large, 5.17e+03. This might indicate that there are<br/>strong multicollinearity or other numerical problems."
      ],
      "text/plain": [
       "<class 'statsmodels.iolib.summary.Summary'>\n",
       "\"\"\"\n",
       "                            OLS Regression Results                            \n",
       "==============================================================================\n",
       "Dep. Variable:         price_per_sqft   R-squared:                       0.325\n",
       "Model:                            OLS   Adj. R-squared:                  0.323\n",
       "Method:                 Least Squares   F-statistic:                     175.4\n",
       "Date:                Tue, 04 Jan 2022   Prob (F-statistic):          1.01e-122\n",
       "Time:                        16:16:39   Log-Likelihood:                -10658.\n",
       "No. Observations:                1464   AIC:                         2.133e+04\n",
       "Df Residuals:                    1459   BIC:                         2.135e+04\n",
       "Df Model:                           4                                         \n",
       "Covariance Type:            nonrobust                                         \n",
       "==============================================================================\n",
       "                 coef    std err          t      P>|t|      [0.025      0.975]\n",
       "------------------------------------------------------------------------------\n",
       "Intercept   1093.2072     34.007     32.146      0.000    1026.499    1159.915\n",
       "sqft          -0.0470      0.046     -1.015      0.310      -0.138       0.044\n",
       "bedrooms      54.1766     22.918      2.364      0.018       9.221      99.132\n",
       "bathrooms    379.3654     26.075     14.549      0.000     328.217     430.514\n",
       "rooms        -77.9379     16.012     -4.868      0.000    -109.347     -46.529\n",
       "==============================================================================\n",
       "Omnibus:                       90.184   Durbin-Watson:                   1.923\n",
       "Prob(Omnibus):                  0.000   Jarque-Bera (JB):              114.171\n",
       "Skew:                           0.572   Prob(JB):                     1.61e-25\n",
       "Kurtosis:                       3.749   Cond. No.                     5.17e+03\n",
       "==============================================================================\n",
       "\n",
       "Notes:\n",
       "[1] Standard Errors assume that the covariance matrix of the errors is correctly specified.\n",
       "[2] The condition number is large, 5.17e+03. This might indicate that there are\n",
       "strong multicollinearity or other numerical problems.\n",
       "\"\"\""
      ]
     },
     "execution_count": 34,
     "metadata": {},
     "output_type": "execute_result"
    }
   ],
   "source": [
    "smf.ols('price_per_sqft ~ sqft + bedrooms + bathrooms + rooms', data=df_se).fit().summary()"
   ]
  },
  {
   "cell_type": "code",
   "execution_count": 35,
   "metadata": {},
   "outputs": [
    {
     "data": {
      "text/html": [
       "<table class=\"simpletable\">\n",
       "<caption>OLS Regression Results</caption>\n",
       "<tr>\n",
       "  <th>Dep. Variable:</th>     <td>price_per_sqft</td>  <th>  R-squared:         </th> <td>   0.094</td> \n",
       "</tr>\n",
       "<tr>\n",
       "  <th>Model:</th>                   <td>OLS</td>       <th>  Adj. R-squared:    </th> <td>   0.094</td> \n",
       "</tr>\n",
       "<tr>\n",
       "  <th>Method:</th>             <td>Least Squares</td>  <th>  F-statistic:       </th> <td>   152.1</td> \n",
       "</tr>\n",
       "<tr>\n",
       "  <th>Date:</th>             <td>Tue, 04 Jan 2022</td> <th>  Prob (F-statistic):</th> <td>2.55e-33</td> \n",
       "</tr>\n",
       "<tr>\n",
       "  <th>Time:</th>                 <td>16:16:39</td>     <th>  Log-Likelihood:    </th> <td> -10872.</td> \n",
       "</tr>\n",
       "<tr>\n",
       "  <th>No. Observations:</th>      <td>  1464</td>      <th>  AIC:               </th> <td>2.175e+04</td>\n",
       "</tr>\n",
       "<tr>\n",
       "  <th>Df Residuals:</th>          <td>  1462</td>      <th>  BIC:               </th> <td>2.176e+04</td>\n",
       "</tr>\n",
       "<tr>\n",
       "  <th>Df Model:</th>              <td>     1</td>      <th>                     </th>     <td> </td>    \n",
       "</tr>\n",
       "<tr>\n",
       "  <th>Covariance Type:</th>      <td>nonrobust</td>    <th>                     </th>     <td> </td>    \n",
       "</tr>\n",
       "</table>\n",
       "<table class=\"simpletable\">\n",
       "<tr>\n",
       "             <td></td>               <th>coef</th>     <th>std err</th>      <th>t</th>      <th>P>|t|</th>  <th>[0.025</th>    <th>0.975]</th>  \n",
       "</tr>\n",
       "<tr>\n",
       "  <th>Intercept</th>              <td> 1113.5945</td> <td>   27.302</td> <td>   40.789</td> <td> 0.000</td> <td> 1060.040</td> <td> 1167.149</td>\n",
       "</tr>\n",
       "<tr>\n",
       "  <th>C(door_attendant)[T.1]</th> <td>  365.5730</td> <td>   29.641</td> <td>   12.333</td> <td> 0.000</td> <td>  307.429</td> <td>  423.717</td>\n",
       "</tr>\n",
       "</table>\n",
       "<table class=\"simpletable\">\n",
       "<tr>\n",
       "  <th>Omnibus:</th>       <td>94.288</td> <th>  Durbin-Watson:     </th> <td>   1.881</td>\n",
       "</tr>\n",
       "<tr>\n",
       "  <th>Prob(Omnibus):</th> <td> 0.000</td> <th>  Jarque-Bera (JB):  </th> <td> 111.899</td>\n",
       "</tr>\n",
       "<tr>\n",
       "  <th>Skew:</th>          <td> 0.642</td> <th>  Prob(JB):          </th> <td>5.03e-25</td>\n",
       "</tr>\n",
       "<tr>\n",
       "  <th>Kurtosis:</th>      <td> 3.429</td> <th>  Cond. No.          </th> <td>    4.95</td>\n",
       "</tr>\n",
       "</table><br/><br/>Notes:<br/>[1] Standard Errors assume that the covariance matrix of the errors is correctly specified."
      ],
      "text/plain": [
       "<class 'statsmodels.iolib.summary.Summary'>\n",
       "\"\"\"\n",
       "                            OLS Regression Results                            \n",
       "==============================================================================\n",
       "Dep. Variable:         price_per_sqft   R-squared:                       0.094\n",
       "Model:                            OLS   Adj. R-squared:                  0.094\n",
       "Method:                 Least Squares   F-statistic:                     152.1\n",
       "Date:                Tue, 04 Jan 2022   Prob (F-statistic):           2.55e-33\n",
       "Time:                        16:16:39   Log-Likelihood:                -10872.\n",
       "No. Observations:                1464   AIC:                         2.175e+04\n",
       "Df Residuals:                    1462   BIC:                         2.176e+04\n",
       "Df Model:                           1                                         \n",
       "Covariance Type:            nonrobust                                         \n",
       "==========================================================================================\n",
       "                             coef    std err          t      P>|t|      [0.025      0.975]\n",
       "------------------------------------------------------------------------------------------\n",
       "Intercept               1113.5945     27.302     40.789      0.000    1060.040    1167.149\n",
       "C(door_attendant)[T.1]   365.5730     29.641     12.333      0.000     307.429     423.717\n",
       "==============================================================================\n",
       "Omnibus:                       94.288   Durbin-Watson:                   1.881\n",
       "Prob(Omnibus):                  0.000   Jarque-Bera (JB):              111.899\n",
       "Skew:                           0.642   Prob(JB):                     5.03e-25\n",
       "Kurtosis:                       3.429   Cond. No.                         4.95\n",
       "==============================================================================\n",
       "\n",
       "Notes:\n",
       "[1] Standard Errors assume that the covariance matrix of the errors is correctly specified.\n",
       "\"\"\""
      ]
     },
     "execution_count": 35,
     "metadata": {},
     "output_type": "execute_result"
    }
   ],
   "source": [
    "smf.ols('price_per_sqft ~ C(door_attendant)', data=df_se).fit().summary()"
   ]
  },
  {
   "cell_type": "code",
   "execution_count": 36,
   "metadata": {},
   "outputs": [
    {
     "data": {
      "text/html": [
       "<table class=\"simpletable\">\n",
       "<caption>OLS Regression Results</caption>\n",
       "<tr>\n",
       "  <th>Dep. Variable:</th>     <td>price_per_sqft</td>  <th>  R-squared:         </th> <td>   0.644</td> \n",
       "</tr>\n",
       "<tr>\n",
       "  <th>Model:</th>                   <td>OLS</td>       <th>  Adj. R-squared:    </th> <td>   0.641</td> \n",
       "</tr>\n",
       "<tr>\n",
       "  <th>Method:</th>             <td>Least Squares</td>  <th>  F-statistic:       </th> <td>   238.8</td> \n",
       "</tr>\n",
       "<tr>\n",
       "  <th>Date:</th>             <td>Tue, 04 Jan 2022</td> <th>  Prob (F-statistic):</th> <td>4.39e-316</td>\n",
       "</tr>\n",
       "<tr>\n",
       "  <th>Time:</th>                 <td>16:16:39</td>     <th>  Log-Likelihood:    </th> <td> -10189.</td> \n",
       "</tr>\n",
       "<tr>\n",
       "  <th>No. Observations:</th>      <td>  1464</td>      <th>  AIC:               </th> <td>2.040e+04</td>\n",
       "</tr>\n",
       "<tr>\n",
       "  <th>Df Residuals:</th>          <td>  1452</td>      <th>  BIC:               </th> <td>2.047e+04</td>\n",
       "</tr>\n",
       "<tr>\n",
       "  <th>Df Model:</th>              <td>    11</td>      <th>                     </th>     <td> </td>    \n",
       "</tr>\n",
       "<tr>\n",
       "  <th>Covariance Type:</th>      <td>nonrobust</td>    <th>                     </th>     <td> </td>    \n",
       "</tr>\n",
       "</table>\n",
       "<table class=\"simpletable\">\n",
       "<tr>\n",
       "              <td></td>                <th>coef</th>     <th>std err</th>      <th>t</th>      <th>P>|t|</th>  <th>[0.025</th>    <th>0.975]</th>  \n",
       "</tr>\n",
       "<tr>\n",
       "  <th>Intercept</th>                <td> 1171.5777</td> <td>   34.303</td> <td>   34.153</td> <td> 0.000</td> <td> 1104.288</td> <td> 1238.867</td>\n",
       "</tr>\n",
       "<tr>\n",
       "  <th>C(door_attendant)[T.1]</th>   <td>   81.1999</td> <td>   21.276</td> <td>    3.817</td> <td> 0.000</td> <td>   39.466</td> <td>  122.934</td>\n",
       "</tr>\n",
       "<tr>\n",
       "  <th>C(property_type)[T.coop]</th> <td> -409.5452</td> <td>   16.138</td> <td>  -25.378</td> <td> 0.000</td> <td> -441.201</td> <td> -377.889</td>\n",
       "</tr>\n",
       "<tr>\n",
       "  <th>C(zip_code)[T.10024]</th>     <td>  -52.2184</td> <td>   19.327</td> <td>   -2.702</td> <td> 0.007</td> <td>  -90.131</td> <td>  -14.306</td>\n",
       "</tr>\n",
       "<tr>\n",
       "  <th>C(zip_code)[T.10025]</th>     <td> -240.0234</td> <td>   16.990</td> <td>  -14.127</td> <td> 0.000</td> <td> -273.351</td> <td> -206.696</td>\n",
       "</tr>\n",
       "<tr>\n",
       "  <th>C(zip_code)[T.10069]</th>     <td> -147.2330</td> <td>   26.089</td> <td>   -5.644</td> <td> 0.000</td> <td> -198.409</td> <td>  -96.057</td>\n",
       "</tr>\n",
       "<tr>\n",
       "  <th>C(gym)[T.1]</th>              <td>   30.4728</td> <td>   16.390</td> <td>    1.859</td> <td> 0.063</td> <td>   -1.678</td> <td>   62.623</td>\n",
       "</tr>\n",
       "<tr>\n",
       "  <th>bedrooms</th>                 <td>   58.1779</td> <td>   16.864</td> <td>    3.450</td> <td> 0.001</td> <td>   25.097</td> <td>   91.259</td>\n",
       "</tr>\n",
       "<tr>\n",
       "  <th>bathrooms</th>                <td>  177.0112</td> <td>   19.878</td> <td>    8.905</td> <td> 0.000</td> <td>  138.018</td> <td>  216.004</td>\n",
       "</tr>\n",
       "<tr>\n",
       "  <th>floor</th>                    <td>    9.1051</td> <td>    0.940</td> <td>    9.688</td> <td> 0.000</td> <td>    7.262</td> <td>   10.949</td>\n",
       "</tr>\n",
       "<tr>\n",
       "  <th>sqft</th>                     <td>   -0.0155</td> <td>    0.034</td> <td>   -0.450</td> <td> 0.653</td> <td>   -0.083</td> <td>    0.052</td>\n",
       "</tr>\n",
       "<tr>\n",
       "  <th>rooms</th>                    <td>   -2.4904</td> <td>   11.910</td> <td>   -0.209</td> <td> 0.834</td> <td>  -25.853</td> <td>   20.872</td>\n",
       "</tr>\n",
       "</table>\n",
       "<table class=\"simpletable\">\n",
       "<tr>\n",
       "  <th>Omnibus:</th>       <td>170.259</td> <th>  Durbin-Watson:     </th> <td>   1.964</td> \n",
       "</tr>\n",
       "<tr>\n",
       "  <th>Prob(Omnibus):</th> <td> 0.000</td>  <th>  Jarque-Bera (JB):  </th> <td> 507.921</td> \n",
       "</tr>\n",
       "<tr>\n",
       "  <th>Skew:</th>          <td> 0.595</td>  <th>  Prob(JB):          </th> <td>5.09e-111</td>\n",
       "</tr>\n",
       "<tr>\n",
       "  <th>Kurtosis:</th>      <td> 5.629</td>  <th>  Cond. No.          </th> <td>7.06e+03</td> \n",
       "</tr>\n",
       "</table><br/><br/>Notes:<br/>[1] Standard Errors assume that the covariance matrix of the errors is correctly specified.<br/>[2] The condition number is large, 7.06e+03. This might indicate that there are<br/>strong multicollinearity or other numerical problems."
      ],
      "text/plain": [
       "<class 'statsmodels.iolib.summary.Summary'>\n",
       "\"\"\"\n",
       "                            OLS Regression Results                            \n",
       "==============================================================================\n",
       "Dep. Variable:         price_per_sqft   R-squared:                       0.644\n",
       "Model:                            OLS   Adj. R-squared:                  0.641\n",
       "Method:                 Least Squares   F-statistic:                     238.8\n",
       "Date:                Tue, 04 Jan 2022   Prob (F-statistic):          4.39e-316\n",
       "Time:                        16:16:39   Log-Likelihood:                -10189.\n",
       "No. Observations:                1464   AIC:                         2.040e+04\n",
       "Df Residuals:                    1452   BIC:                         2.047e+04\n",
       "Df Model:                          11                                         \n",
       "Covariance Type:            nonrobust                                         \n",
       "============================================================================================\n",
       "                               coef    std err          t      P>|t|      [0.025      0.975]\n",
       "--------------------------------------------------------------------------------------------\n",
       "Intercept                 1171.5777     34.303     34.153      0.000    1104.288    1238.867\n",
       "C(door_attendant)[T.1]      81.1999     21.276      3.817      0.000      39.466     122.934\n",
       "C(property_type)[T.coop]  -409.5452     16.138    -25.378      0.000    -441.201    -377.889\n",
       "C(zip_code)[T.10024]       -52.2184     19.327     -2.702      0.007     -90.131     -14.306\n",
       "C(zip_code)[T.10025]      -240.0234     16.990    -14.127      0.000    -273.351    -206.696\n",
       "C(zip_code)[T.10069]      -147.2330     26.089     -5.644      0.000    -198.409     -96.057\n",
       "C(gym)[T.1]                 30.4728     16.390      1.859      0.063      -1.678      62.623\n",
       "bedrooms                    58.1779     16.864      3.450      0.001      25.097      91.259\n",
       "bathrooms                  177.0112     19.878      8.905      0.000     138.018     216.004\n",
       "floor                        9.1051      0.940      9.688      0.000       7.262      10.949\n",
       "sqft                        -0.0155      0.034     -0.450      0.653      -0.083       0.052\n",
       "rooms                       -2.4904     11.910     -0.209      0.834     -25.853      20.872\n",
       "==============================================================================\n",
       "Omnibus:                      170.259   Durbin-Watson:                   1.964\n",
       "Prob(Omnibus):                  0.000   Jarque-Bera (JB):              507.921\n",
       "Skew:                           0.595   Prob(JB):                    5.09e-111\n",
       "Kurtosis:                       5.629   Cond. No.                     7.06e+03\n",
       "==============================================================================\n",
       "\n",
       "Notes:\n",
       "[1] Standard Errors assume that the covariance matrix of the errors is correctly specified.\n",
       "[2] The condition number is large, 7.06e+03. This might indicate that there are\n",
       "strong multicollinearity or other numerical problems.\n",
       "\"\"\""
      ]
     },
     "execution_count": 36,
     "metadata": {},
     "output_type": "execute_result"
    }
   ],
   "source": [
    "smf.ols('''price_per_sqft ~ bedrooms + bathrooms + floor\n",
    "                              + C(door_attendant) + C(property_type) + C(zip_code)\n",
    "                                 + sqft + rooms + C(gym)''', data=df_se).fit().summary()"
   ]
  },
  {
   "cell_type": "markdown",
   "metadata": {},
   "source": [
    "### Multicollinearity"
   ]
  },
  {
   "cell_type": "code",
   "execution_count": 37,
   "metadata": {},
   "outputs": [
    {
     "data": {
      "text/html": [
       "<img src onerror=\"var cell = this.closest('.code_cell');var editor = cell.querySelector('.input_area');editor.style.background='#bde4f0';this.parentNode.removeChild(this)\">"
      ],
      "text/plain": [
       "<IPython.core.display.HTML object>"
      ]
     },
     "metadata": {},
     "output_type": "display_data"
    }
   ],
   "source": [
    "optional_material()\n",
    "\n",
    "np.random.seed(123)\n",
    "data = np.random.multivariate_normal([0, 0], [[1, 0.999], [0.999,1]], size=300)\n",
    "X1 = data[:, 0]\n",
    "X2 = data[:, 1]\n",
    "Y1 = X1 + np.random.normal(size=300)\n",
    "Y2 = np.random.normal(size=300)\n",
    "\n",
    "df_data = pd.DataFrame({'Y1':Y1, 'Y2':Y2, 'X1':X1, 'X2':X2})"
   ]
  },
  {
   "cell_type": "code",
   "execution_count": 38,
   "metadata": {},
   "outputs": [
    {
     "data": {
      "text/html": [
       "<div>\n",
       "<style scoped>\n",
       "    .dataframe tbody tr th:only-of-type {\n",
       "        vertical-align: middle;\n",
       "    }\n",
       "\n",
       "    .dataframe tbody tr th {\n",
       "        vertical-align: top;\n",
       "    }\n",
       "\n",
       "    .dataframe thead th {\n",
       "        text-align: right;\n",
       "    }\n",
       "</style>\n",
       "<table border=\"1\" class=\"dataframe\">\n",
       "  <thead>\n",
       "    <tr style=\"text-align: right;\">\n",
       "      <th></th>\n",
       "      <th>Y1</th>\n",
       "      <th>Y2</th>\n",
       "      <th>X1</th>\n",
       "      <th>X2</th>\n",
       "    </tr>\n",
       "  </thead>\n",
       "  <tbody>\n",
       "    <tr>\n",
       "      <th>0</th>\n",
       "      <td>2.203714</td>\n",
       "      <td>0.551302</td>\n",
       "      <td>1.063058</td>\n",
       "      <td>1.107660</td>\n",
       "    </tr>\n",
       "    <tr>\n",
       "      <th>1</th>\n",
       "      <td>-1.037392</td>\n",
       "      <td>0.419589</td>\n",
       "      <td>-0.249226</td>\n",
       "      <td>-0.316590</td>\n",
       "    </tr>\n",
       "    <tr>\n",
       "      <th>2</th>\n",
       "      <td>0.806762</td>\n",
       "      <td>1.815652</td>\n",
       "      <td>0.541528</td>\n",
       "      <td>0.615383</td>\n",
       "    </tr>\n",
       "    <tr>\n",
       "      <th>3</th>\n",
       "      <td>2.063392</td>\n",
       "      <td>-0.252750</td>\n",
       "      <td>2.435663</td>\n",
       "      <td>2.416482</td>\n",
       "    </tr>\n",
       "    <tr>\n",
       "      <th>4</th>\n",
       "      <td>-0.071639</td>\n",
       "      <td>-0.292004</td>\n",
       "      <td>-1.246239</td>\n",
       "      <td>-1.285001</td>\n",
       "    </tr>\n",
       "  </tbody>\n",
       "</table>\n",
       "</div>"
      ],
      "text/plain": [
       "         Y1        Y2        X1        X2\n",
       "0  2.203714  0.551302  1.063058  1.107660\n",
       "1 -1.037392  0.419589 -0.249226 -0.316590\n",
       "2  0.806762  1.815652  0.541528  0.615383\n",
       "3  2.063392 -0.252750  2.435663  2.416482\n",
       "4 -0.071639 -0.292004 -1.246239 -1.285001"
      ]
     },
     "execution_count": 38,
     "metadata": {},
     "output_type": "execute_result"
    }
   ],
   "source": [
    "df_data.head()"
   ]
  },
  {
   "cell_type": "code",
   "execution_count": 39,
   "metadata": {},
   "outputs": [
    {
     "data": {
      "text/html": [
       "<table class=\"simpletable\">\n",
       "<caption>OLS Regression Results</caption>\n",
       "<tr>\n",
       "  <th>Dep. Variable:</th>           <td>Y1</td>        <th>  R-squared:         </th> <td>   0.454</td>\n",
       "</tr>\n",
       "<tr>\n",
       "  <th>Model:</th>                   <td>OLS</td>       <th>  Adj. R-squared:    </th> <td>   0.450</td>\n",
       "</tr>\n",
       "<tr>\n",
       "  <th>Method:</th>             <td>Least Squares</td>  <th>  F-statistic:       </th> <td>   123.5</td>\n",
       "</tr>\n",
       "<tr>\n",
       "  <th>Date:</th>             <td>Tue, 04 Jan 2022</td> <th>  Prob (F-statistic):</th> <td>9.32e-40</td>\n",
       "</tr>\n",
       "<tr>\n",
       "  <th>Time:</th>                 <td>16:16:39</td>     <th>  Log-Likelihood:    </th> <td> -427.61</td>\n",
       "</tr>\n",
       "<tr>\n",
       "  <th>No. Observations:</th>      <td>   300</td>      <th>  AIC:               </th> <td>   861.2</td>\n",
       "</tr>\n",
       "<tr>\n",
       "  <th>Df Residuals:</th>          <td>   297</td>      <th>  BIC:               </th> <td>   872.3</td>\n",
       "</tr>\n",
       "<tr>\n",
       "  <th>Df Model:</th>              <td>     2</td>      <th>                     </th>     <td> </td>   \n",
       "</tr>\n",
       "<tr>\n",
       "  <th>Covariance Type:</th>      <td>nonrobust</td>    <th>                     </th>     <td> </td>   \n",
       "</tr>\n",
       "</table>\n",
       "<table class=\"simpletable\">\n",
       "<tr>\n",
       "      <td></td>         <th>coef</th>     <th>std err</th>      <th>t</th>      <th>P>|t|</th>  <th>[0.025</th>    <th>0.975]</th>  \n",
       "</tr>\n",
       "<tr>\n",
       "  <th>Intercept</th> <td>   -0.0491</td> <td>    0.058</td> <td>   -0.840</td> <td> 0.402</td> <td>   -0.164</td> <td>    0.066</td>\n",
       "</tr>\n",
       "<tr>\n",
       "  <th>X1</th>        <td>    0.6455</td> <td>    1.326</td> <td>    0.487</td> <td> 0.627</td> <td>   -1.965</td> <td>    3.256</td>\n",
       "</tr>\n",
       "<tr>\n",
       "  <th>X2</th>        <td>    0.2552</td> <td>    1.330</td> <td>    0.192</td> <td> 0.848</td> <td>   -2.362</td> <td>    2.873</td>\n",
       "</tr>\n",
       "</table>\n",
       "<table class=\"simpletable\">\n",
       "<tr>\n",
       "  <th>Omnibus:</th>       <td> 0.616</td> <th>  Durbin-Watson:     </th> <td>   2.037</td>\n",
       "</tr>\n",
       "<tr>\n",
       "  <th>Prob(Omnibus):</th> <td> 0.735</td> <th>  Jarque-Bera (JB):  </th> <td>   0.532</td>\n",
       "</tr>\n",
       "<tr>\n",
       "  <th>Skew:</th>          <td> 0.103</td> <th>  Prob(JB):          </th> <td>   0.767</td>\n",
       "</tr>\n",
       "<tr>\n",
       "  <th>Kurtosis:</th>      <td> 3.015</td> <th>  Cond. No.          </th> <td>    46.3</td>\n",
       "</tr>\n",
       "</table><br/><br/>Notes:<br/>[1] Standard Errors assume that the covariance matrix of the errors is correctly specified."
      ],
      "text/plain": [
       "<class 'statsmodels.iolib.summary.Summary'>\n",
       "\"\"\"\n",
       "                            OLS Regression Results                            \n",
       "==============================================================================\n",
       "Dep. Variable:                     Y1   R-squared:                       0.454\n",
       "Model:                            OLS   Adj. R-squared:                  0.450\n",
       "Method:                 Least Squares   F-statistic:                     123.5\n",
       "Date:                Tue, 04 Jan 2022   Prob (F-statistic):           9.32e-40\n",
       "Time:                        16:16:39   Log-Likelihood:                -427.61\n",
       "No. Observations:                 300   AIC:                             861.2\n",
       "Df Residuals:                     297   BIC:                             872.3\n",
       "Df Model:                           2                                         \n",
       "Covariance Type:            nonrobust                                         \n",
       "==============================================================================\n",
       "                 coef    std err          t      P>|t|      [0.025      0.975]\n",
       "------------------------------------------------------------------------------\n",
       "Intercept     -0.0491      0.058     -0.840      0.402      -0.164       0.066\n",
       "X1             0.6455      1.326      0.487      0.627      -1.965       3.256\n",
       "X2             0.2552      1.330      0.192      0.848      -2.362       2.873\n",
       "==============================================================================\n",
       "Omnibus:                        0.616   Durbin-Watson:                   2.037\n",
       "Prob(Omnibus):                  0.735   Jarque-Bera (JB):                0.532\n",
       "Skew:                           0.103   Prob(JB):                        0.767\n",
       "Kurtosis:                       3.015   Cond. No.                         46.3\n",
       "==============================================================================\n",
       "\n",
       "Notes:\n",
       "[1] Standard Errors assume that the covariance matrix of the errors is correctly specified.\n",
       "\"\"\""
      ]
     },
     "execution_count": 39,
     "metadata": {},
     "output_type": "execute_result"
    }
   ],
   "source": [
    "smf.ols('Y1 ~ X1 + X2', data=df_data).fit().summary()"
   ]
  },
  {
   "cell_type": "code",
   "execution_count": 40,
   "metadata": {},
   "outputs": [
    {
     "data": {
      "text/html": [
       "<table class=\"simpletable\">\n",
       "<caption>OLS Regression Results</caption>\n",
       "<tr>\n",
       "  <th>Dep. Variable:</th>           <td>Y2</td>        <th>  R-squared:         </th> <td>   0.001</td>\n",
       "</tr>\n",
       "<tr>\n",
       "  <th>Model:</th>                   <td>OLS</td>       <th>  Adj. R-squared:    </th> <td>  -0.006</td>\n",
       "</tr>\n",
       "<tr>\n",
       "  <th>Method:</th>             <td>Least Squares</td>  <th>  F-statistic:       </th> <td>  0.1485</td>\n",
       "</tr>\n",
       "<tr>\n",
       "  <th>Date:</th>             <td>Tue, 04 Jan 2022</td> <th>  Prob (F-statistic):</th>  <td> 0.862</td> \n",
       "</tr>\n",
       "<tr>\n",
       "  <th>Time:</th>                 <td>16:16:40</td>     <th>  Log-Likelihood:    </th> <td> -415.94</td>\n",
       "</tr>\n",
       "<tr>\n",
       "  <th>No. Observations:</th>      <td>   300</td>      <th>  AIC:               </th> <td>   837.9</td>\n",
       "</tr>\n",
       "<tr>\n",
       "  <th>Df Residuals:</th>          <td>   297</td>      <th>  BIC:               </th> <td>   849.0</td>\n",
       "</tr>\n",
       "<tr>\n",
       "  <th>Df Model:</th>              <td>     2</td>      <th>                     </th>     <td> </td>   \n",
       "</tr>\n",
       "<tr>\n",
       "  <th>Covariance Type:</th>      <td>nonrobust</td>    <th>                     </th>     <td> </td>   \n",
       "</tr>\n",
       "</table>\n",
       "<table class=\"simpletable\">\n",
       "<tr>\n",
       "      <td></td>         <th>coef</th>     <th>std err</th>      <th>t</th>      <th>P>|t|</th>  <th>[0.025</th>    <th>0.975]</th>  \n",
       "</tr>\n",
       "<tr>\n",
       "  <th>Intercept</th> <td>   -0.0444</td> <td>    0.056</td> <td>   -0.790</td> <td> 0.430</td> <td>   -0.155</td> <td>    0.066</td>\n",
       "</tr>\n",
       "<tr>\n",
       "  <th>X1</th>        <td>   -0.5573</td> <td>    1.276</td> <td>   -0.437</td> <td> 0.663</td> <td>   -3.068</td> <td>    1.953</td>\n",
       "</tr>\n",
       "<tr>\n",
       "  <th>X2</th>        <td>    0.5404</td> <td>    1.279</td> <td>    0.422</td> <td> 0.673</td> <td>   -1.977</td> <td>    3.058</td>\n",
       "</tr>\n",
       "</table>\n",
       "<table class=\"simpletable\">\n",
       "<tr>\n",
       "  <th>Omnibus:</th>       <td> 2.903</td> <th>  Durbin-Watson:     </th> <td>   1.971</td>\n",
       "</tr>\n",
       "<tr>\n",
       "  <th>Prob(Omnibus):</th> <td> 0.234</td> <th>  Jarque-Bera (JB):  </th> <td>   2.616</td>\n",
       "</tr>\n",
       "<tr>\n",
       "  <th>Skew:</th>          <td>-0.216</td> <th>  Prob(JB):          </th> <td>   0.270</td>\n",
       "</tr>\n",
       "<tr>\n",
       "  <th>Kurtosis:</th>      <td> 3.151</td> <th>  Cond. No.          </th> <td>    46.3</td>\n",
       "</tr>\n",
       "</table><br/><br/>Notes:<br/>[1] Standard Errors assume that the covariance matrix of the errors is correctly specified."
      ],
      "text/plain": [
       "<class 'statsmodels.iolib.summary.Summary'>\n",
       "\"\"\"\n",
       "                            OLS Regression Results                            \n",
       "==============================================================================\n",
       "Dep. Variable:                     Y2   R-squared:                       0.001\n",
       "Model:                            OLS   Adj. R-squared:                 -0.006\n",
       "Method:                 Least Squares   F-statistic:                    0.1485\n",
       "Date:                Tue, 04 Jan 2022   Prob (F-statistic):              0.862\n",
       "Time:                        16:16:40   Log-Likelihood:                -415.94\n",
       "No. Observations:                 300   AIC:                             837.9\n",
       "Df Residuals:                     297   BIC:                             849.0\n",
       "Df Model:                           2                                         \n",
       "Covariance Type:            nonrobust                                         \n",
       "==============================================================================\n",
       "                 coef    std err          t      P>|t|      [0.025      0.975]\n",
       "------------------------------------------------------------------------------\n",
       "Intercept     -0.0444      0.056     -0.790      0.430      -0.155       0.066\n",
       "X1            -0.5573      1.276     -0.437      0.663      -3.068       1.953\n",
       "X2             0.5404      1.279      0.422      0.673      -1.977       3.058\n",
       "==============================================================================\n",
       "Omnibus:                        2.903   Durbin-Watson:                   1.971\n",
       "Prob(Omnibus):                  0.234   Jarque-Bera (JB):                2.616\n",
       "Skew:                          -0.216   Prob(JB):                        0.270\n",
       "Kurtosis:                       3.151   Cond. No.                         46.3\n",
       "==============================================================================\n",
       "\n",
       "Notes:\n",
       "[1] Standard Errors assume that the covariance matrix of the errors is correctly specified.\n",
       "\"\"\""
      ]
     },
     "execution_count": 40,
     "metadata": {},
     "output_type": "execute_result"
    }
   ],
   "source": [
    "smf.ols('Y2 ~ X1 + X2', data=df_data).fit().summary()"
   ]
  },
  {
   "cell_type": "markdown",
   "metadata": {},
   "source": [
    "### Variable selection - Benjamini-Hochberg"
   ]
  },
  {
   "cell_type": "code",
   "execution_count": 44,
   "metadata": {},
   "outputs": [],
   "source": [
    "full_lr = smf.ols('''price_per_sqft ~ bedrooms + bathrooms + floor\n",
    "                                 + C(door_attendant) + C(property_type) + C(zip_code)\n",
    "                                      + sqft + rooms + C(gym)''', data=df_se).fit()"
   ]
  },
  {
   "cell_type": "code",
   "execution_count": 85,
   "metadata": {},
   "outputs": [],
   "source": [
    "df_coefs = full_lr.summary2().tables[1].sort_values('P>|t|')"
   ]
  },
  {
   "cell_type": "code",
   "execution_count": 121,
   "metadata": {},
   "outputs": [
    {
     "data": {
      "image/png": "[encoded data removed]",
      "text/plain": [
       "<Figure size 720x504 with 1 Axes>"
      ]
     },
     "metadata": {
      "needs_background": "light"
     },
     "output_type": "display_data"
    }
   ],
   "source": [
    "n_vars = len(df_coefs)\n",
    "\n",
    "plt.figure(figsize=(10, 7))\n",
    "\n",
    "plt.plot(range(1, n_vars+1), df_coefs['P>|t|'], linewidth=0, marker='o')\n",
    "plt.plot(range(1, n_vars+1), [0.05*i/n_vars for i in range(1, n_vars+1)], color='red')\n",
    "\n",
    "plt.ylim([-0.001, 0.08])\n",
    "plt.xlim([0.9, 12])\n",
    "\n",
    "plt.xticks(ticks=range(1, n_vars+1), labels=df_coefs.index, rotation=45, ha='right')\n",
    "plt.yticks(fontsize=14)\n",
    "\n",
    "plt.ylabel('p-value', fontsize=16)\n",
    "\n",
    "sns.despine()"
   ]
  },
  {
   "cell_type": "code",
   "execution_count": 109,
   "metadata": {},
   "outputs": [
    {
     "data": {
      "text/plain": [
       "Index(['Intercept', 'C(property_type)[T.coop]', 'C(zip_code)[T.10025]',\n",
       "       'floor', 'bathrooms', 'C(zip_code)[T.10069]', 'C(door_attendant)[T.1]',\n",
       "       'bedrooms', 'C(zip_code)[T.10024]', 'C(gym)[T.1]', 'sqft', 'rooms'],\n",
       "      dtype='object')"
      ]
     },
     "execution_count": 109,
     "metadata": {},
     "output_type": "execute_result"
    }
   ],
   "source": [
    "df_coefs.index"
   ]
  }
 ],
 "metadata": {
  "kernelspec": {
   "display_name": "Python 3 (ipykernel)",
   "language": "python",
   "name": "python3"
  },
  "language_info": {
   "codemirror_mode": {
    "name": "ipython",
    "version": 3
   },
   "file_extension": ".py",
   "mimetype": "text/x-python",
   "name": "python",
   "nbconvert_exporter": "python",
   "pygments_lexer": "ipython3",
   "version": "3.9.7"
  }
 },
 "nbformat": 4,
 "nbformat_minor": 4
}
